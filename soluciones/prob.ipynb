{
 "cells": [
  {
   "cell_type": "code",
   "execution_count": 51,
   "metadata": {},
   "outputs": [],
   "source": [
    "from scipy.stats import binom,geom\n",
    "\n",
    "data = [geom.pmf(x, 0.5) for x in range(1,11)]\n"
   ]
  },
  {
   "cell_type": "code",
   "execution_count": 52,
   "metadata": {},
   "outputs": [
    {
     "data": {
      "text/plain": [
       "[0.5,\n",
       " 0.25,\n",
       " 0.125,\n",
       " 0.0625,\n",
       " 0.03125,\n",
       " 0.015625,\n",
       " 0.0078125,\n",
       " 0.00390625,\n",
       " 0.001953125,\n",
       " 0.0009765625]"
      ]
     },
     "execution_count": 52,
     "metadata": {},
     "output_type": "execute_result"
    }
   ],
   "source": [
    "data"
   ]
  },
  {
   "cell_type": "code",
   "execution_count": 61,
   "metadata": {},
   "outputs": [
    {
     "data": {
      "text/plain": [
       "([<matplotlib.axis.XTick at 0x11d53b198>,\n",
       "  <matplotlib.axis.XTick at 0x11d534a20>,\n",
       "  <matplotlib.axis.XTick at 0x11d534748>,\n",
       "  <matplotlib.axis.XTick at 0x11d56a5f8>,\n",
       "  <matplotlib.axis.XTick at 0x11d56aa90>,\n",
       "  <matplotlib.axis.XTick at 0x11d56af60>,\n",
       "  <matplotlib.axis.XTick at 0x11d56aa58>,\n",
       "  <matplotlib.axis.XTick at 0x11d571550>,\n",
       "  <matplotlib.axis.XTick at 0x11d571a20>,\n",
       "  <matplotlib.axis.XTick at 0x11d571ef0>],\n",
       " <a list of 10 Text xticklabel objects>)"
      ]
     },
     "execution_count": 61,
     "metadata": {},
     "output_type": "execute_result"
    },
    {
     "data": {
      "image/png": "[encoded data removed]",
      "text/plain": [
       "<Figure size 432x288 with 1 Axes>"
      ]
     },
     "metadata": {
      "needs_background": "light"
     },
     "output_type": "display_data"
    }
   ],
   "source": [
    "%matplotlib inline\n",
    "import matplotlib.pyplot as plt\n",
    "\n",
    "x = list(range(1,11))\n",
    "plt.stem(x,data)\n",
    "plt.xticks(x)"
   ]
  },
  {
   "cell_type": "code",
   "execution_count": 58,
   "metadata": {},
   "outputs": [
    {
     "data": {
      "text/plain": [
       "5.0141"
      ]
     },
     "execution_count": 58,
     "metadata": {},
     "output_type": "execute_result"
    }
   ],
   "source": [
    "import numpy as np\n",
    "exp = np.random.random((10000,10)) > 0.5\n",
    "exp.sum(axis=1).mean()"
   ]
  },
  {
   "cell_type": "code",
   "execution_count": 16,
   "metadata": {},
   "outputs": [
    {
     "data": {
      "text/plain": [
       "5.01"
      ]
     },
     "execution_count": 16,
     "metadata": {},
     "output_type": "execute_result"
    }
   ],
   "source": []
  },
  {
   "cell_type": "code",
   "execution_count": 69,
   "metadata": {},
   "outputs": [
    {
     "name": "stdout",
     "output_type": "stream",
     "text": [
      "[10.26940776  9.39789409  9.76235848  9.86867473  9.496571    9.9305399\n",
      " 10.83804991  9.35883353 10.27971685 12.41634894 10.98029082  9.89298161\n",
      "  8.23967262  9.33929202 11.72356505  8.84237045 10.09765377  9.93636967\n",
      " 11.73113773 10.36679323  9.17417198 10.2303003   9.30721686 10.7622\n",
      " 10.86499872  8.61599217  9.60015663 10.26100752 10.31492274  9.61258039\n",
      "  7.80700401 10.19935001  9.04735684 11.38967159  9.7777624   9.66562392\n",
      " 10.62562206  9.26207056 12.6894635  12.09083203  9.66052668  9.28693672\n",
      "  9.44348245 10.97675757  7.67007265  9.5595906  10.64982272 10.79124794\n",
      "  8.68259846  8.43479168  9.06875057  9.5286044   8.84707663  8.14674518\n",
      " 10.51272099 10.90598977  9.90406353 10.29898603 10.16241361  8.88323379\n",
      " 11.35079999 11.36092956  9.78841484  9.18558951 10.21225159 10.00938243\n",
      " 10.39226856  9.93062662  9.5152878  10.91857259 10.09033042  8.66436429\n",
      " 10.17424104 10.38604007  8.81987967 11.53028515 10.39149538 10.5988242\n",
      " 10.44820921 10.71359472  9.14424251 10.06852512 11.36944596  9.25130067\n",
      " 11.14025946  7.81359054  9.4851855  10.02976431 10.8910376   9.74479502\n",
      " 12.05492235 11.0742483   9.52760825  9.95580288  8.07353093  9.76814457\n",
      " 10.2249757  10.6471769  10.01235911  8.50911797]\n"
     ]
    },
    {
     "data": {
      "text/plain": [
       "(array([ 5.,  5.,  9., 19., 20., 19., 12.,  5.,  4.,  2.]),\n",
       " array([ 7.67007265,  8.17201173,  8.67395082,  9.1758899 ,  9.67782899,\n",
       "        10.17976807, 10.68170716, 11.18364624, 11.68558533, 12.18752441,\n",
       "        12.6894635 ]),\n",
       " <a list of 10 Patch objects>)"
      ]
     },
     "execution_count": 69,
     "metadata": {},
     "output_type": "execute_result"
    },
    {
     "data": {
      "image/png": "[encoded data removed]",
      "text/plain": [
       "<Figure size 432x288 with 1 Axes>"
      ]
     },
     "metadata": {
      "needs_background": "light"
     },
     "output_type": "display_data"
    }
   ],
   "source": [
    "y = np.random.randn(100) * 1 +10\n",
    "print(y)\n",
    "plt.hist(y)\n"
   ]
  },
  {
   "cell_type": "code",
   "execution_count": null,
   "metadata": {},
   "outputs": [],
   "source": []
  }
 ],
 "metadata": {
  "kernelspec": {
   "display_name": "Python 3",
   "language": "python",
   "name": "python3"
  },
  "language_info": {
   "codemirror_mode": {
    "name": "ipython",
    "version": 3
   },
   "file_extension": ".py",
   "mimetype": "text/x-python",
   "name": "python",
   "nbconvert_exporter": "python",
   "pygments_lexer": "ipython3",
   "version": "3.7.3"
  }
 },
 "nbformat": 4,
 "nbformat_minor": 2
}
