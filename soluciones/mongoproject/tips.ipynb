{
 "cells": [
  {
   "cell_type": "markdown",
   "metadata": {},
   "source": [
    "```python\n",
    "\n",
    "    data = [\n",
    "        {\"_id\":ObjectId(\".....\"), \"name\": \"ABCD\"},\n",
    "        {\"_id\":ObjectId(\".....\"), \"name\": \"ABCD\"}\n",
    "        {\"_id\":ObjectId(\".....\"), \"name\": \"ABCD\"}\n",
    "        {\"_id\":ObjectId(\".....\"), \"name\": \"ABCD\"}\n",
    "        {\"_id\":ObjectId(\".....\"), \"name\": \"ABCD\"}\n",
    "        {\"_id\":ObjectId(\".....\"), \"name\": \"ABCD\"}\n",
    "    ]\n",
    "\n",
    "    # Multiple lists\n",
    "    a=[]\n",
    "    b=[]\n",
    "    c=[]\n",
    "    d=[]\n",
    "\n",
    "    # Iterate docs from pymongo query\n",
    "    for doc in data:\n",
    "        a.append(doc[\"name\"][\"a\"])\n",
    "        b.append(doc[\"name\"][\"b\"])\n",
    "        c.append(doc[\"name\"][\"b\"])\n",
    "        d.append(doc[\"name\"][\"b\"])\n",
    "\n",
    "    # NOOOOOOOOOOOOOOOOOOOOOOOOOOOOOOOOOOOOOOOOOOOOOOOOOOOOOOOOOOOOOOOOOOOOOOOOOOOOOOOOOOOOOOOOOOOOOOOO\n",
    "    df = pd.DataFrame(list(zip(lst1, lst2, lst3)))\n",
    "\n",
    "```"
   ]
  },
  {
   "cell_type": "code",
   "execution_count": 1,
   "metadata": {},
   "outputs": [],
   "source": [
    "    from foursquare import getPlace,prepareData"
   ]
  },
  {
   "cell_type": "code",
   "execution_count": 2,
   "metadata": {},
   "outputs": [
    {
     "data": {
      "text/plain": [
       "'{\"meta\": {\"code\": 200, \"requestId\": \"5dd7be74e826ac00223d4d8c\"}, \"response\": {\"suggestedFilters\": {\"header\": \"Tap to show:\", \"filters\": [{\"name\": \"Open now\", \"key\": \"openNow\"}]}, \"suggestedRadius\": 5535, \"headerLocation\": \"Orcasur\", \"headerFullLocation\": \"Orcasur, Madrid\", \"headerLocationGranularity\": \"neighborhood\", \"query\": \"starbucks\", \"totalResults\": 49, \"suggestedBounds\": {\"ne\": {\"lat\": 40.42222423457066, \"lng\": -3.6749699288815583}, \"sw\": {\"lat\": 40.389831454982584, \"lng\": -3.7076194934872744}}, \"groups\": [{\"type\": \"Recommended Places\", \"name\": \"recommended\", \"items\": [{\"reasons\": {\"count\": 0, \"items\": [{\"summary\": \"This spot is popular\", \"type\": \"general\", \"reasonName\": \"globalInteractionReason\"}]}, \"venue\": {\"id\": \"59ea4524ccad6b7e88d32a86\", \"name\": \"Starbucks\", \"contact\": {}, \"location\": {\"address\": \"Av. del Manzanares, 210\", \"crossStreet\": \"Av. del Manzanares, 210\", \"lat\": 40.39130385405477, \"lng\": -3.701122858987979, \"labeledLatLngs\": [{\"label\": \"display\", \"lat\": 40.39130385405477, \"lng\": -3.701122858987979}], \"distance\": 1192, \"postalCode\": \"28026\", \"cc\": \"ES\", \"city\": \"Madrid\", \"state\": \"Madrid\", \"country\": \"Espa\\\\u00f1a\", \"formattedAddress\": [\"Av. del Manzanares, 210 (Av. del Manzanares, 210)\", \"28026 Madrid Madrid\", \"Espa\\\\u00f1a\"]}, \"categories\": [{\"id\": \"4bf58dd8d48988d1e0931735\", \"name\": \"Coffee Shop\", \"pluralName\": \"Coffee Shops\", \"shortName\": \"Coffee Shop\", \"icon\": {\"prefix\": \"https://ss3.4sqi.net/img/categories_v2/food/coffeeshop_\", \"suffix\": \".png\"}, \"primary\": true}], \"verified\": true, \"stats\": {\"tipCount\": 0, \"usersCount\": 0, \"checkinsCount\": 0, \"visitsCount\": 0}, \"beenHere\": {\"count\": 0, \"lastCheckinExpiredAt\": 0, \"marked\": false, \"unconfirmedCount\": 0}, \"photos\": {\"count\": 0, \"groups\": []}, \"hereNow\": {\"count\": 0, \"summary\": \"Nobody here\", \"groups\": []}}, \"referralId\": \"e-0-59ea4524ccad6b7e88d32a86-0\"}, {\"reasons\": {\"count\": 0, \"items\": [{\"summary\": \"This spot is popular\", \"type\": \"general\", \"reasonName\": \"globalInteractionReason\"}]}, \"venue\": {\"id\": \"590a19114a7aae76e1cedef2\", \"name\": \"Starbucks\", \"contact\": {}, \"location\": {\"address\": \"C. Retama, 8 (CC ECI Mendez Alvaro)\", \"crossStreet\": \"C. Retama, 8\", \"lat\": 40.39469, \"lng\": -3.676454, \"labeledLatLngs\": [{\"label\": \"display\", \"lat\": 40.39469, \"lng\": -3.676454}], \"distance\": 1921, \"postalCode\": \"28045\", \"cc\": \"ES\", \"city\": \"Madrid\", \"state\": \"Madrid\", \"country\": \"Espa\\\\u00f1a\", \"formattedAddress\": [\"C. Retama, 8 (CC ECI Mendez Alvaro) (C. Retama, 8)\", \"28045 Madrid Madrid\", \"Espa\\\\u00f1a\"]}, \"categories\": [{\"id\": \"4bf58dd8d48988d1e0931735\", \"name\": \"Coffee Shop\", \"pluralName\": \"Coffee Shops\", \"shortName\": \"Coffee Shop\", \"icon\": {\"prefix\": \"https://ss3.4sqi.net/img/categories_v2/food/coffeeshop_\", \"suffix\": \".png\"}, \"primary\": true}], \"verified\": true, \"stats\": {\"tipCount\": 0, \"usersCount\": 0, \"checkinsCount\": 0, \"visitsCount\": 0}, \"beenHere\": {\"count\": 0, \"lastCheckinExpiredAt\": 0, \"marked\": false, \"unconfirmedCount\": 0}, \"photos\": {\"count\": 0, \"groups\": []}, \"hereNow\": {\"count\": 0, \"summary\": \"Nobody here\", \"groups\": []}}, \"referralId\": \"e-0-590a19114a7aae76e1cedef2-1\"}, {\"reasons\": {\"count\": 0, \"items\": [{\"summary\": \"This spot is popular\", \"type\": \"general\", \"reasonName\": \"globalInteractionReason\"}]}, \"venue\": {\"id\": \"4b9a010ff964a520b49a35e3\", \"name\": \"Starbucks\", \"contact\": {}, \"location\": {\"address\": \"C. Doctor Drumen, 4\", \"crossStreet\": \"Museo Reina Sofia\", \"lat\": 40.40885214578761, \"lng\": -3.693236539287397, \"labeledLatLngs\": [{\"label\": \"display\", \"lat\": 40.40885214578761, \"lng\": -3.693236539287397}], \"distance\": 2911, \"postalCode\": \"28012\", \"cc\": \"ES\", \"city\": \"Madrid\", \"state\": \"Madrid\", \"country\": \"Espa\\\\u00f1a\", \"formattedAddress\": [\"C. Doctor Drumen, 4 (Museo Reina Sofia)\", \"28012 Madrid Madrid\", \"Espa\\\\u00f1a\"]}, \"categories\": [{\"id\": \"4bf58dd8d48988d1e0931735\", \"name\": \"Coffee Shop\", \"pluralName\": \"Coffee Shops\", \"shortName\": \"Coffee Shop\", \"icon\": {\"prefix\": \"https://ss3.4sqi.net/img/categories_v2/food/coffeeshop_\", \"suffix\": \".png\"}, \"primary\": true}], \"verified\": true, \"stats\": {\"tipCount\": 0, \"usersCount\": 0, \"checkinsCount\": 0, \"visitsCount\": 0}, \"beenHere\": {\"count\": 0, \"lastCheckinExpiredAt\": 0, \"marked\": false, \"unconfirmedCount\": 0}, \"photos\": {\"count\": 0, \"groups\": []}, \"hereNow\": {\"count\": 0, \"summary\": \"Nobody here\", \"groups\": []}}, \"referralId\": \"e-0-4b9a010ff964a520b49a35e3-2\"}, {\"reasons\": {\"count\": 0, \"items\": [{\"summary\": \"This spot is popular\", \"type\": \"general\", \"reasonName\": \"globalInteractionReason\"}]}, \"venue\": {\"id\": \"4b73c42ff964a52026bb2de3\", \"name\": \"Starbucks\", \"contact\": {}, \"location\": {\"address\": \"Pl. C\\\\u00e1novas del Castillo, 5\", \"lat\": 40.41532327347708, \"lng\": -3.6949486687744146, \"labeledLatLngs\": [{\"label\": \"display\", \"lat\": 40.41532327347708, \"lng\": -3.6949486687744146}], \"distance\": 3636, \"postalCode\": \"28005\", \"cc\": \"ES\", \"city\": \"Madrid\", \"state\": \"Madrid\", \"country\": \"Espa\\\\u00f1a\", \"formattedAddress\": [\"Pl. C\\\\u00e1novas del Castillo, 5\", \"28005 Madrid Madrid\", \"Espa\\\\u00f1a\"]}, \"categories\": [{\"id\": \"4bf58dd8d48988d1e0931735\", \"name\": \"Coffee Shop\", \"pluralName\": \"Coffee Shops\", \"shortName\": \"Coffee Shop\", \"icon\": {\"prefix\": \"https://ss3.4sqi.net/img/categories_v2/food/coffeeshop_\", \"suffix\": \".png\"}, \"primary\": true}], \"verified\": true, \"stats\": {\"tipCount\": 0, \"usersCount\": 0, \"checkinsCount\": 0, \"visitsCount\": 0}, \"beenHere\": {\"count\": 0, \"lastCheckinExpiredAt\": 0, \"marked\": false, \"unconfirmedCount\": 0}, \"photos\": {\"count\": 0, \"groups\": []}, \"hereNow\": {\"count\": 0, \"summary\": \"Nobody here\", \"groups\": []}}, \"referralId\": \"e-0-4b73c42ff964a52026bb2de3-3\"}, {\"reasons\": {\"count\": 0, \"items\": [{\"summary\": \"This spot is popular\", \"type\": \"general\", \"reasonName\": \"globalInteractionReason\"}]}, \"venue\": {\"id\": \"50068e83e4b0ae5996a1b015\", \"name\": \"Starbucks\", \"contact\": {}, \"location\": {\"address\": \"C. Serrano, 41\", \"lat\": 40.403120577140534, \"lng\": -3.687687685586035, \"labeledLatLngs\": [{\"label\": \"display\", \"lat\": 40.403120577140534, \"lng\": -3.687687685586035}], \"distance\": 2313, \"cc\": \"ES\", \"city\": \"Madrid\", \"state\": \"Madrid\", \"country\": \"Espa\\\\u00f1a\", \"formattedAddress\": [\"C. Serrano, 41\", \"Madrid Madrid\", \"Espa\\\\u00f1a\"]}, \"categories\": [{\"id\": \"4bf58dd8d48988d1e0931735\", \"name\": \"Coffee Shop\", \"pluralName\": \"Coffee Shops\", \"shortName\": \"Coffee Shop\", \"icon\": {\"prefix\": \"https://ss3.4sqi.net/img/categories_v2/food/coffeeshop_\", \"suffix\": \".png\"}, \"primary\": true}], \"verified\": false, \"stats\": {\"tipCount\": 0, \"usersCount\": 0, \"checkinsCount\": 0, \"visitsCount\": 0}, \"beenHere\": {\"count\": 0, \"lastCheckinExpiredAt\": 0, \"marked\": false, \"unconfirmedCount\": 0}, \"photos\": {\"count\": 0, \"groups\": []}, \"hereNow\": {\"count\": 0, \"summary\": \"Nobody here\", \"groups\": []}}, \"referralId\": \"e-0-50068e83e4b0ae5996a1b015-4\"}, {\"reasons\": {\"count\": 0, \"items\": [{\"summary\": \"This spot is popular\", \"type\": \"general\", \"reasonName\": \"globalInteractionReason\"}]}, \"venue\": {\"id\": \"59cdf2c30fe7a025a229a007\", \"name\": \"Starbucks\", \"contact\": {}, \"location\": {\"address\": \"Pl. de Pedro Zerolo, 12\", \"lat\": 40.42075183549848, \"lng\": -3.6993145297210788, \"labeledLatLngs\": [{\"label\": \"display\", \"lat\": 40.42075183549848, \"lng\": -3.6993145297210788}], \"distance\": 4272, \"postalCode\": \"28004\", \"cc\": \"ES\", \"city\": \"Madrid\", \"state\": \"Madrid\", \"country\": \"Espa\\\\u00f1a\", \"formattedAddress\": [\"Pl. de Pedro Zerolo, 12\", \"28004 Madrid Madrid\", \"Espa\\\\u00f1a\"]}, \"categories\": [{\"id\": \"4bf58dd8d48988d1e0931735\", \"name\": \"Coffee Shop\", \"pluralName\": \"Coffee Shops\", \"shortName\": \"Coffee Shop\", \"icon\": {\"prefix\": \"https://ss3.4sqi.net/img/categories_v2/food/coffeeshop_\", \"suffix\": \".png\"}, \"primary\": true}], \"verified\": true, \"stats\": {\"tipCount\": 0, \"usersCount\": 0, \"checkinsCount\": 0, \"visitsCount\": 0}, \"beenHere\": {\"count\": 0, \"lastCheckinExpiredAt\": 0, \"marked\": false, \"unconfirmedCount\": 0}, \"photos\": {\"count\": 0, \"groups\": []}, \"hereNow\": {\"count\": 0, \"summary\": \"Nobody here\", \"groups\": []}}, \"referralId\": \"e-0-59cdf2c30fe7a025a229a007-5\"}, {\"reasons\": {\"count\": 0, \"items\": [{\"summary\": \"This spot is popular\", \"type\": \"general\", \"reasonName\": \"globalInteractionReason\"}]}, \"venue\": {\"id\": \"4b9b5750f964a520790136e3\", \"name\": \"Starbucks\", \"contact\": {}, \"location\": {\"address\": \"C. Arenal, 14\", \"lat\": 40.41719516711848, \"lng\": -3.706118548830636, \"labeledLatLngs\": [{\"label\": \"display\", \"lat\": 40.41719516711848, \"lng\": -3.706118548830636}], \"distance\": 4003, \"postalCode\": \"28013\", \"cc\": \"ES\", \"city\": \"Madrid\", \"state\": \"Madrid\", \"country\": \"Espa\\\\u00f1a\", \"formattedAddress\": [\"C. Arenal, 14\", \"28013 Madrid Madrid\", \"Espa\\\\u00f1a\"]}, \"categories\": [{\"id\": \"4bf58dd8d48988d1e0931735\", \"name\": \"Coffee Shop\", \"pluralName\": \"Coffee Shops\", \"shortName\": \"Coffee Shop\", \"icon\": {\"prefix\": \"https://ss3.4sqi.net/img/categories_v2/food/coffeeshop_\", \"suffix\": \".png\"}, \"primary\": true}], \"verified\": true, \"stats\": {\"tipCount\": 0, \"usersCount\": 0, \"checkinsCount\": 0, \"visitsCount\": 0}, \"beenHere\": {\"count\": 0, \"lastCheckinExpiredAt\": 0, \"marked\": false, \"unconfirmedCount\": 0}, \"photos\": {\"count\": 0, \"groups\": []}, \"hereNow\": {\"count\": 0, \"summary\": \"Nobody here\", \"groups\": []}}, \"referralId\": \"e-0-4b9b5750f964a520790136e3-6\"}, {\"reasons\": {\"count\": 0, \"items\": [{\"summary\": \"This spot is popular\", \"type\": \"general\", \"reasonName\": \"globalInteractionReason\"}]}, \"venue\": {\"id\": \"4b66c179f964a520c6292be3\", \"name\": \"Starbucks\", \"contact\": {}, \"location\": {\"address\": \"C. Gran V\\\\u00eda, 30\", \"lat\": 40.42014039388448, \"lng\": -3.702886033408268, \"labeledLatLngs\": [{\"label\": \"display\", \"lat\": 40.42014039388448, \"lng\": -3.702886033408268}], \"distance\": 4255, \"postalCode\": \"28013\", \"cc\": \"ES\", \"city\": \"Madrid\", \"state\": \"Madrid\", \"country\": \"Espa\\\\u00f1a\", \"formattedAddress\": [\"C. Gran V\\\\u00eda, 30\", \"28013 Madrid Madrid\", \"Espa\\\\u00f1a\"]}, \"categories\": [{\"id\": \"4bf58dd8d48988d1e0931735\", \"name\": \"Coffee Shop\", \"pluralName\": \"Coffee Shops\", \"shortName\": \"Coffee Shop\", \"icon\": {\"prefix\": \"https://ss3.4sqi.net/img/categories_v2/food/coffeeshop_\", \"suffix\": \".png\"}, \"primary\": true}], \"verified\": true, \"stats\": {\"tipCount\": 0, \"usersCount\": 0, \"checkinsCount\": 0, \"visitsCount\": 0}, \"beenHere\": {\"count\": 0, \"lastCheckinExpiredAt\": 0, \"marked\": false, \"unconfirmedCount\": 0}, \"photos\": {\"count\": 0, \"groups\": []}, \"hereNow\": {\"count\": 0, \"summary\": \"Nobody here\", \"groups\": []}}, \"referralId\": \"e-0-4b66c179f964a520c6292be3-7\"}, {\"reasons\": {\"count\": 0, \"items\": [{\"summary\": \"This spot is popular\", \"type\": \"general\", \"reasonName\": \"globalInteractionReason\"}]}, \"venue\": {\"id\": \"593ac75159fe5c3bbdd96471\", \"name\": \"Starbucks\", \"contact\": {}, \"location\": {\"address\": \"27 C. de Preciados\", \"lat\": 40.419667845686355, \"lng\": -3.7061354223688325, \"labeledLatLngs\": [{\"label\": \"display\", \"lat\": 40.419667845686355, \"lng\": -3.7061354223688325}], \"distance\": 4268, \"postalCode\": \"28013\", \"cc\": \"ES\", \"city\": \"Madrid\", \"state\": \"Madrid\", \"country\": \"Espa\\\\u00f1a\", \"formattedAddress\": [\"27 C. de Preciados\", \"28013 Madrid Madrid\", \"Espa\\\\u00f1a\"]}, \"categories\": [{\"id\": \"4bf58dd8d48988d1e0931735\", \"name\": \"Coffee Shop\", \"pluralName\": \"Coffee Shops\", \"shortName\": \"Coffee Shop\", \"icon\": {\"prefix\": \"https://ss3.4sqi.net/img/categories_v2/food/coffeeshop_\", \"suffix\": \".png\"}, \"primary\": true}], \"verified\": true, \"stats\": {\"tipCount\": 0, \"usersCount\": 0, \"checkinsCount\": 0, \"visitsCount\": 0}, \"beenHere\": {\"count\": 0, \"lastCheckinExpiredAt\": 0, \"marked\": false, \"unconfirmedCount\": 0}, \"photos\": {\"count\": 0, \"groups\": []}, \"hereNow\": {\"count\": 0, \"summary\": \"Nobody here\", \"groups\": []}}, \"referralId\": \"e-0-593ac75159fe5c3bbdd96471-8\"}, {\"reasons\": {\"count\": 0, \"items\": [{\"summary\": \"This spot is popular\", \"type\": \"general\", \"reasonName\": \"globalInteractionReason\"}]}, \"venue\": {\"id\": \"4b19810ef964a5208bde23e3\", \"name\": \"Starbucks\", \"contact\": {}, \"location\": {\"address\": \"C. Alcal\\\\u00e1, 21\", \"lat\": 40.418038185194774, \"lng\": -3.699371513099982, \"labeledLatLngs\": [{\"label\": \"display\", \"lat\": 40.418038185194774, \"lng\": -3.699371513099982}], \"distance\": 3973, \"postalCode\": \"28014\", \"cc\": \"ES\", \"city\": \"Madrid\", \"state\": \"Madrid\", \"country\": \"Espa\\\\u00f1a\", \"formattedAddress\": [\"C. Alcal\\\\u00e1, 21\", \"28014 Madrid Madrid\", \"Espa\\\\u00f1a\"]}, \"categories\": [{\"id\": \"4bf58dd8d48988d1e0931735\", \"name\": \"Coffee Shop\", \"pluralName\": \"Coffee Shops\", \"shortName\": \"Coffee Shop\", \"icon\": {\"prefix\": \"https://ss3.4sqi.net/img/categories_v2/food/coffeeshop_\", \"suffix\": \".png\"}, \"primary\": true}], \"verified\": true, \"stats\": {\"tipCount\": 0, \"usersCount\": 0, \"checkinsCount\": 0, \"visitsCount\": 0}, \"beenHere\": {\"count\": 0, \"lastCheckinExpiredAt\": 0, \"marked\": false, \"unconfirmedCount\": 0}, \"photos\": {\"count\": 0, \"groups\": []}, \"hereNow\": {\"count\": 0, \"summary\": \"Nobody here\", \"groups\": []}}, \"referralId\": \"e-0-4b19810ef964a5208bde23e3-9\"}]}]}}'"
      ]
     },
     "execution_count": 2,
     "metadata": {},
     "output_type": "execute_result"
    }
   ],
   "source": [
    "import json\n",
    "\n",
    "mataderoMadrid = [40.3826978,-3.6927541]\n",
    "places = getPlace(*mataderoMadrid,\"starbucks\")\n",
    "#print(type(places))\n",
    "json.dumps(places)"
   ]
  },
  {
   "cell_type": "code",
   "execution_count": 3,
   "metadata": {},
   "outputs": [
    {
     "data": {
      "text/html": [
       "<div>\n",
       "<style scoped>\n",
       "    .dataframe tbody tr th:only-of-type {\n",
       "        vertical-align: middle;\n",
       "    }\n",
       "\n",
       "    .dataframe tbody tr th {\n",
       "        vertical-align: top;\n",
       "    }\n",
       "\n",
       "    .dataframe thead th {\n",
       "        text-align: right;\n",
       "    }\n",
       "</style>\n",
       "<table border=\"1\" class=\"dataframe\">\n",
       "  <thead>\n",
       "    <tr style=\"text-align: right;\">\n",
       "      <th></th>\n",
       "      <th>coordinates</th>\n",
       "      <th>distance</th>\n",
       "      <th>lat</th>\n",
       "      <th>lng</th>\n",
       "      <th>name</th>\n",
       "    </tr>\n",
       "  </thead>\n",
       "  <tbody>\n",
       "    <tr>\n",
       "      <th>0</th>\n",
       "      <td>{'type': 'Point', 'coordinates': [40.391303854...</td>\n",
       "      <td>1192</td>\n",
       "      <td>40.391304</td>\n",
       "      <td>-3.701123</td>\n",
       "      <td>Starbucks</td>\n",
       "    </tr>\n",
       "    <tr>\n",
       "      <th>1</th>\n",
       "      <td>{'type': 'Point', 'coordinates': [40.39469, -3...</td>\n",
       "      <td>1921</td>\n",
       "      <td>40.394690</td>\n",
       "      <td>-3.676454</td>\n",
       "      <td>Starbucks</td>\n",
       "    </tr>\n",
       "    <tr>\n",
       "      <th>2</th>\n",
       "      <td>{'type': 'Point', 'coordinates': [40.408852145...</td>\n",
       "      <td>2911</td>\n",
       "      <td>40.408852</td>\n",
       "      <td>-3.693237</td>\n",
       "      <td>Starbucks</td>\n",
       "    </tr>\n",
       "    <tr>\n",
       "      <th>3</th>\n",
       "      <td>{'type': 'Point', 'coordinates': [40.415323273...</td>\n",
       "      <td>3636</td>\n",
       "      <td>40.415323</td>\n",
       "      <td>-3.694949</td>\n",
       "      <td>Starbucks</td>\n",
       "    </tr>\n",
       "    <tr>\n",
       "      <th>4</th>\n",
       "      <td>{'type': 'Point', 'coordinates': [40.403120577...</td>\n",
       "      <td>2313</td>\n",
       "      <td>40.403121</td>\n",
       "      <td>-3.687688</td>\n",
       "      <td>Starbucks</td>\n",
       "    </tr>\n",
       "    <tr>\n",
       "      <th>5</th>\n",
       "      <td>{'type': 'Point', 'coordinates': [40.420751835...</td>\n",
       "      <td>4272</td>\n",
       "      <td>40.420752</td>\n",
       "      <td>-3.699315</td>\n",
       "      <td>Starbucks</td>\n",
       "    </tr>\n",
       "    <tr>\n",
       "      <th>6</th>\n",
       "      <td>{'type': 'Point', 'coordinates': [40.417195167...</td>\n",
       "      <td>4003</td>\n",
       "      <td>40.417195</td>\n",
       "      <td>-3.706119</td>\n",
       "      <td>Starbucks</td>\n",
       "    </tr>\n",
       "    <tr>\n",
       "      <th>7</th>\n",
       "      <td>{'type': 'Point', 'coordinates': [40.420140393...</td>\n",
       "      <td>4255</td>\n",
       "      <td>40.420140</td>\n",
       "      <td>-3.702886</td>\n",
       "      <td>Starbucks</td>\n",
       "    </tr>\n",
       "    <tr>\n",
       "      <th>8</th>\n",
       "      <td>{'type': 'Point', 'coordinates': [40.419667845...</td>\n",
       "      <td>4268</td>\n",
       "      <td>40.419668</td>\n",
       "      <td>-3.706135</td>\n",
       "      <td>Starbucks</td>\n",
       "    </tr>\n",
       "    <tr>\n",
       "      <th>9</th>\n",
       "      <td>{'type': 'Point', 'coordinates': [40.418038185...</td>\n",
       "      <td>3973</td>\n",
       "      <td>40.418038</td>\n",
       "      <td>-3.699372</td>\n",
       "      <td>Starbucks</td>\n",
       "    </tr>\n",
       "  </tbody>\n",
       "</table>\n",
       "</div>"
      ],
      "text/plain": [
       "                                         coordinates  distance        lat  \\\n",
       "0  {'type': 'Point', 'coordinates': [40.391303854...      1192  40.391304   \n",
       "1  {'type': 'Point', 'coordinates': [40.39469, -3...      1921  40.394690   \n",
       "2  {'type': 'Point', 'coordinates': [40.408852145...      2911  40.408852   \n",
       "3  {'type': 'Point', 'coordinates': [40.415323273...      3636  40.415323   \n",
       "4  {'type': 'Point', 'coordinates': [40.403120577...      2313  40.403121   \n",
       "5  {'type': 'Point', 'coordinates': [40.420751835...      4272  40.420752   \n",
       "6  {'type': 'Point', 'coordinates': [40.417195167...      4003  40.417195   \n",
       "7  {'type': 'Point', 'coordinates': [40.420140393...      4255  40.420140   \n",
       "8  {'type': 'Point', 'coordinates': [40.419667845...      4268  40.419668   \n",
       "9  {'type': 'Point', 'coordinates': [40.418038185...      3973  40.418038   \n",
       "\n",
       "        lng       name  \n",
       "0 -3.701123  Starbucks  \n",
       "1 -3.676454  Starbucks  \n",
       "2 -3.693237  Starbucks  \n",
       "3 -3.694949  Starbucks  \n",
       "4 -3.687688  Starbucks  \n",
       "5 -3.699315  Starbucks  \n",
       "6 -3.706119  Starbucks  \n",
       "7 -3.702886  Starbucks  \n",
       "8 -3.706135  Starbucks  \n",
       "9 -3.699372  Starbucks  "
      ]
     },
     "execution_count": 3,
     "metadata": {},
     "output_type": "execute_result"
    }
   ],
   "source": [
    "import pandas as pd\n",
    "df = pd.DataFrame(prepareData(places))\n",
    "df"
   ]
  },
  {
   "cell_type": "code",
   "execution_count": 4,
   "metadata": {},
   "outputs": [],
   "source": [
    "df.to_json(\"starbucks.json\",orient=\"records\")\n"
   ]
  },
  {
   "cell_type": "code",
   "execution_count": 5,
   "metadata": {},
   "outputs": [
    {
     "name": "stdout",
     "output_type": "stream",
     "text": [
      "Connected to mongodb in -> mongodb://localhost\n"
     ]
    }
   ],
   "source": [
    "from mongodb import getCollection\n",
    "\n",
    "db, col = getCollection(\"starbucks\",\"starbucks\")"
   ]
  },
  {
   "cell_type": "code",
   "execution_count": 6,
   "metadata": {},
   "outputs": [
    {
     "name": "stderr",
     "output_type": "stream",
     "text": [
      "/usr/local/lib/python3.7/site-packages/ipykernel_launcher.py:1: DeprecationWarning: count is deprecated. Use Collection.count_documents instead.\n",
      "  \"\"\"Entry point for launching an IPython kernel.\n"
     ]
    },
    {
     "data": {
      "text/plain": [
       "10"
      ]
     },
     "execution_count": 6,
     "metadata": {},
     "output_type": "execute_result"
    }
   ],
   "source": [
    "col.find({}).count()"
   ]
  },
  {
   "cell_type": "code",
   "execution_count": 7,
   "metadata": {},
   "outputs": [
    {
     "data": {
      "text/plain": [
       "[{'_id': ObjectId('5dd7b9acb39b7097d54f320e'),\n",
       "  'coordinates': {'type': 'Point',\n",
       "   'coordinates': [40.3913038541, -3.701122859]},\n",
       "  'distance': 1192,\n",
       "  'lat': 40.3913038541,\n",
       "  'lng': -3.701122859,\n",
       "  'name': 'Starbucks'},\n",
       " {'_id': ObjectId('5dd7b9acb39b7097d54f320f'),\n",
       "  'coordinates': {'type': 'Point', 'coordinates': [40.39469, -3.676454]},\n",
       "  'distance': 1921,\n",
       "  'lat': 40.39469,\n",
       "  'lng': -3.676454,\n",
       "  'name': 'Starbucks'},\n",
       " {'_id': ObjectId('5dd7b9acb39b7097d54f3210'),\n",
       "  'coordinates': {'type': 'Point',\n",
       "   'coordinates': [40.4088521458, -3.6932365393]},\n",
       "  'distance': 2911,\n",
       "  'lat': 40.4088521458,\n",
       "  'lng': -3.6932365393,\n",
       "  'name': 'Starbucks'},\n",
       " {'_id': ObjectId('5dd7b9acb39b7097d54f3211'),\n",
       "  'coordinates': {'type': 'Point',\n",
       "   'coordinates': [40.4153232735, -3.6949486688]},\n",
       "  'distance': 3636,\n",
       "  'lat': 40.4153232735,\n",
       "  'lng': -3.6949486688,\n",
       "  'name': 'Starbucks'},\n",
       " {'_id': ObjectId('5dd7b9acb39b7097d54f3212'),\n",
       "  'coordinates': {'type': 'Point',\n",
       "   'coordinates': [40.4031205771, -3.6876876856]},\n",
       "  'distance': 2313,\n",
       "  'lat': 40.4031205771,\n",
       "  'lng': -3.6876876856,\n",
       "  'name': 'Starbucks'},\n",
       " {'_id': ObjectId('5dd7b9acb39b7097d54f3213'),\n",
       "  'coordinates': {'type': 'Point',\n",
       "   'coordinates': [40.4207518355, -3.6993145297]},\n",
       "  'distance': 4272,\n",
       "  'lat': 40.4207518355,\n",
       "  'lng': -3.6993145297,\n",
       "  'name': 'Starbucks'},\n",
       " {'_id': ObjectId('5dd7b9acb39b7097d54f3214'),\n",
       "  'coordinates': {'type': 'Point',\n",
       "   'coordinates': [40.4171951671, -3.7061185488]},\n",
       "  'distance': 4003,\n",
       "  'lat': 40.4171951671,\n",
       "  'lng': -3.7061185488,\n",
       "  'name': 'Starbucks'},\n",
       " {'_id': ObjectId('5dd7b9acb39b7097d54f3215'),\n",
       "  'coordinates': {'type': 'Point',\n",
       "   'coordinates': [40.4201403939, -3.7028860334]},\n",
       "  'distance': 4255,\n",
       "  'lat': 40.4201403939,\n",
       "  'lng': -3.7028860334,\n",
       "  'name': 'Starbucks'},\n",
       " {'_id': ObjectId('5dd7b9acb39b7097d54f3216'),\n",
       "  'coordinates': {'type': 'Point',\n",
       "   'coordinates': [40.4196678457, -3.7061354224]},\n",
       "  'distance': 4268,\n",
       "  'lat': 40.4196678457,\n",
       "  'lng': -3.7061354224,\n",
       "  'name': 'Starbucks'},\n",
       " {'_id': ObjectId('5dd7b9acb39b7097d54f3217'),\n",
       "  'coordinates': {'type': 'Point',\n",
       "   'coordinates': [40.4180381852, -3.6993715131]},\n",
       "  'distance': 3973,\n",
       "  'lat': 40.4180381852,\n",
       "  'lng': -3.6993715131,\n",
       "  'name': 'Starbucks'}]"
      ]
     },
     "execution_count": 7,
     "metadata": {},
     "output_type": "execute_result"
    }
   ],
   "source": [
    "data = list(col.find({}))\n",
    "data"
   ]
  },
  {
   "cell_type": "code",
   "execution_count": 8,
   "metadata": {},
   "outputs": [],
   "source": [
    "#NOOOOOOOOOOO\n",
    "with open(\"file.json\", \"w\") as f:\n",
    "    f.write(str(data))"
   ]
  },
  {
   "cell_type": "code",
   "execution_count": 9,
   "metadata": {},
   "outputs": [],
   "source": [
    "import json\n",
    "from bson.json_util import dumps\n",
    "\n",
    "#SIIII\n",
    "with open(\"file.json\", \"w\") as f:\n",
    "    f.write(dumps(data))"
   ]
  },
  {
   "cell_type": "code",
   "execution_count": null,
   "metadata": {},
   "outputs": [],
   "source": []
  }
 ],
 "metadata": {
  "kernelspec": {
   "display_name": "Python 3",
   "language": "python",
   "name": "python3"
  },
  "language_info": {
   "codemirror_mode": {
    "name": "ipython",
    "version": 3
   },
   "file_extension": ".py",
   "mimetype": "text/x-python",
   "name": "python",
   "nbconvert_exporter": "python",
   "pygments_lexer": "ipython3",
   "version": "3.7.3"
  }
 },
 "nbformat": 4,
 "nbformat_minor": 2
}
