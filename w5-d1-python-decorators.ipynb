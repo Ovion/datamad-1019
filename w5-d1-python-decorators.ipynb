{
 "cells": [
  {
   "cell_type": "code",
   "execution_count": 19,
   "metadata": {},
   "outputs": [
    {
     "name": "stdout",
     "output_type": "stream",
     "text": [
      "rosaliaPepe\n",
      "pitbulJuan\n",
      "('rosalia',) {}\n",
      "tra tra FelipeLuis\n",
      "('pitbul',) {}\n",
      "mr.worldwide FelipePepe\n"
     ]
    }
   ],
   "source": [
    "import random\n",
    "\n",
    "def rosalia(fn):\n",
    "    def wrapper(*args,**kwargs):\n",
    "        \n",
    "        print(args, kwargs)\n",
    "        cantante = args[0]\n",
    "        \n",
    "        frase = \"(nada)\"\n",
    "        if cantante == \"rosalia\":\n",
    "            frase = random.choice([\"con altura\",\"tra tra\",\"malamente\"])\n",
    "        elif cantante == \"pitbul\":\n",
    "            frase = random.choice([\"1,2,3,y...\",\"mr.worldwide\",\"dale\"])\n",
    "\n",
    "        return frase + \" \" + fn()\n",
    "    return wrapper\n",
    "\n",
    "\n",
    "def randomName(nombre=\"Felipe\"):\n",
    "    return nombre+random.choice([\"Luis\",\"Juan\",\"Pepe\",\"Fran\"])\n",
    "\n",
    "\n",
    "@rosalia\n",
    "def decoratedRandomName(*args,**kwargs):\n",
    "    return randomName(*args,**kwargs)\n",
    "\n",
    "print(randomName(\"rosalia\"))\n",
    "print(randomName(\"pitbul\"))\n",
    "print(decoratedRandomName(\"rosalia\"))\n",
    "print(decoratedRandomName(\"pitbul\"))"
   ]
  },
  {
   "cell_type": "code",
   "execution_count": 29,
   "metadata": {},
   "outputs": [
    {
     "data": {
      "text/plain": [
       "'never gonna give you Pepe'"
      ]
     },
     "execution_count": 29,
     "metadata": {},
     "output_type": "execute_result"
    }
   ],
   "source": [
    "\n",
    "\n",
    "def cantaComo(cantante): ## Genera un decorador en base a un parametro\n",
    "    def deco(fn): ## Decorador\n",
    "        def wrapper(*args, **kwargs): ## Funcion que decora\n",
    "            if cantante == \"camela\":\n",
    "                return \"sueño contigo \"+ fn()\n",
    "            elif cantante == \"rick\":\n",
    "                return \"never gonna give you \" + fn()\n",
    "            return \"(nada)\"\n",
    "        return wrapper\n",
    "    return deco\n",
    "\n",
    "\n",
    "@cantaComo(\"rick\")\n",
    "def getName():\n",
    "    return random.choice([\"Luis\",\"Juan\",\"Pepe\",\"Fran\"])\n",
    "    \n",
    "getName()"
   ]
  },
  {
   "cell_type": "code",
   "execution_count": null,
   "metadata": {},
   "outputs": [],
   "source": []
  },
  {
   "cell_type": "code",
   "execution_count": 44,
   "metadata": {},
   "outputs": [],
   "source": [
    "def debug(fn):\n",
    "    def wrapper(*args,**kwargs):\n",
    "        print(\"Input:\",args,kwargs)\n",
    "        out = fn(*args,**kwargs)\n",
    "        print(\"Out:\",out)\n",
    "        return out\n",
    "    return wrapper\n",
    "\n"
   ]
  },
  {
   "cell_type": "code",
   "execution_count": 45,
   "metadata": {},
   "outputs": [
    {
     "name": "stdout",
     "output_type": "stream",
     "text": [
      "Input: (10, 20) {}\n",
      "Out: 30\n"
     ]
    },
    {
     "data": {
      "text/plain": [
       "30"
      ]
     },
     "execution_count": 45,
     "metadata": {},
     "output_type": "execute_result"
    }
   ],
   "source": [
    "@debug\n",
    "def suma(a,b):\n",
    "    if type(a)!=int or type(b) != int:\n",
    "        raise ValueError(\"Unsupported operand types\")\n",
    "    return a+b\n",
    "\n",
    "\n",
    "suma(10,20)\n",
    "#suma(10,\"a\")"
   ]
  },
  {
   "cell_type": "code",
   "execution_count": 46,
   "metadata": {},
   "outputs": [
    {
     "name": "stdout",
     "output_type": "stream",
     "text": [
      "Input: (1,) {}\n",
      "Out: 1👩\n",
      "Input: (2,) {}\n",
      "Out: 2👩\n",
      "Input: (3,) {}\n",
      "Out: 3👩\n",
      "Input: (4,) {}\n",
      "Out: 4👩\n"
     ]
    },
    {
     "data": {
      "text/plain": [
       "['1👩', '2👩', '3👩', '4👩']"
      ]
     },
     "execution_count": 46,
     "metadata": {},
     "output_type": "execute_result"
    }
   ],
   "source": [
    "@debug\n",
    "def tr(a):\n",
    "    return str(a)+\"👩\"\n",
    "\n",
    "list(map(tr,[1,2,3,4]))"
   ]
  },
  {
   "cell_type": "code",
   "execution_count": 1,
   "metadata": {},
   "outputs": [
    {
     "name": "stdout",
     "output_type": "stream",
     "text": [
      "configured sentry with dsn: https\n"
     ]
    }
   ],
   "source": [
    "import sentry_sdk\n",
    "from sentry_sdk import capture_exception\n",
    "import os\n",
    "import dotenv\n",
    "dotenv.load_dotenv()\n",
    "dsn = os.getenv(\"SENTRY_DSN\")\n",
    "print(f'configured sentry with dsn: {dsn[0:5]}')\n",
    "sentry_sdk.init(dsn)\n",
    "\n",
    "def debugMolon(fn):\n",
    "    def wrapper(*args,**kwargs):\n",
    "        print(\"Input:\",args,kwargs)\n",
    "        try:\n",
    "            out = fn(*args,**kwargs)\n",
    "        except Exception as e:\n",
    "            print(\"Error -> \",e)\n",
    "            capture_exception(e)\n",
    "            print(\"captured by sentry\")\n",
    "            raise e\n",
    "        print(\"Out:\",out)\n",
    "        return out\n",
    "    return wrapper\n"
   ]
  },
  {
   "cell_type": "code",
   "execution_count": 2,
   "metadata": {},
   "outputs": [
    {
     "name": "stdout",
     "output_type": "stream",
     "text": [
      "Input: ('a', 20) {}\n",
      "Error ->  Unsupported operand types\n",
      "captured by sentry\n"
     ]
    },
    {
     "ename": "ValueError",
     "evalue": "Unsupported operand types",
     "output_type": "error",
     "traceback": [
      "\u001b[0;31m---------------------------------------------------------------------------\u001b[0m",
      "\u001b[0;31mValueError\u001b[0m                                Traceback (most recent call last)",
      "\u001b[0;32m<ipython-input-2-92750aee45a2>\u001b[0m in \u001b[0;36m<module>\u001b[0;34m\u001b[0m\n\u001b[1;32m      5\u001b[0m     \u001b[0;32mreturn\u001b[0m \u001b[0ma\u001b[0m\u001b[0;34m+\u001b[0m\u001b[0mb\u001b[0m\u001b[0;34m\u001b[0m\u001b[0;34m\u001b[0m\u001b[0m\n\u001b[1;32m      6\u001b[0m \u001b[0;34m\u001b[0m\u001b[0m\n\u001b[0;32m----> 7\u001b[0;31m \u001b[0msuma\u001b[0m\u001b[0;34m(\u001b[0m\u001b[0;34m\"a\"\u001b[0m\u001b[0;34m,\u001b[0m\u001b[0;36m20\u001b[0m\u001b[0;34m)\u001b[0m\u001b[0;34m\u001b[0m\u001b[0;34m\u001b[0m\u001b[0m\n\u001b[0m",
      "\u001b[0;32m<ipython-input-1-540e1d8b8750>\u001b[0m in \u001b[0;36mwrapper\u001b[0;34m(*args, **kwargs)\u001b[0m\n\u001b[1;32m     17\u001b[0m             \u001b[0mcapture_exception\u001b[0m\u001b[0;34m(\u001b[0m\u001b[0me\u001b[0m\u001b[0;34m)\u001b[0m\u001b[0;34m\u001b[0m\u001b[0;34m\u001b[0m\u001b[0m\n\u001b[1;32m     18\u001b[0m             \u001b[0mprint\u001b[0m\u001b[0;34m(\u001b[0m\u001b[0;34m\"captured by sentry\"\u001b[0m\u001b[0;34m)\u001b[0m\u001b[0;34m\u001b[0m\u001b[0;34m\u001b[0m\u001b[0m\n\u001b[0;32m---> 19\u001b[0;31m             \u001b[0;32mraise\u001b[0m \u001b[0me\u001b[0m\u001b[0;34m\u001b[0m\u001b[0;34m\u001b[0m\u001b[0m\n\u001b[0m\u001b[1;32m     20\u001b[0m         \u001b[0mprint\u001b[0m\u001b[0;34m(\u001b[0m\u001b[0;34m\"Out:\"\u001b[0m\u001b[0;34m,\u001b[0m\u001b[0mout\u001b[0m\u001b[0;34m)\u001b[0m\u001b[0;34m\u001b[0m\u001b[0;34m\u001b[0m\u001b[0m\n\u001b[1;32m     21\u001b[0m         \u001b[0;32mreturn\u001b[0m \u001b[0mout\u001b[0m\u001b[0;34m\u001b[0m\u001b[0;34m\u001b[0m\u001b[0m\n",
      "\u001b[0;32m<ipython-input-1-540e1d8b8750>\u001b[0m in \u001b[0;36mwrapper\u001b[0;34m(*args, **kwargs)\u001b[0m\n\u001b[1;32m     12\u001b[0m         \u001b[0mprint\u001b[0m\u001b[0;34m(\u001b[0m\u001b[0;34m\"Input:\"\u001b[0m\u001b[0;34m,\u001b[0m\u001b[0margs\u001b[0m\u001b[0;34m,\u001b[0m\u001b[0mkwargs\u001b[0m\u001b[0;34m)\u001b[0m\u001b[0;34m\u001b[0m\u001b[0;34m\u001b[0m\u001b[0m\n\u001b[1;32m     13\u001b[0m         \u001b[0;32mtry\u001b[0m\u001b[0;34m:\u001b[0m\u001b[0;34m\u001b[0m\u001b[0;34m\u001b[0m\u001b[0m\n\u001b[0;32m---> 14\u001b[0;31m             \u001b[0mout\u001b[0m \u001b[0;34m=\u001b[0m \u001b[0mfn\u001b[0m\u001b[0;34m(\u001b[0m\u001b[0;34m*\u001b[0m\u001b[0margs\u001b[0m\u001b[0;34m,\u001b[0m\u001b[0;34m**\u001b[0m\u001b[0mkwargs\u001b[0m\u001b[0;34m)\u001b[0m\u001b[0;34m\u001b[0m\u001b[0;34m\u001b[0m\u001b[0m\n\u001b[0m\u001b[1;32m     15\u001b[0m         \u001b[0;32mexcept\u001b[0m \u001b[0mException\u001b[0m \u001b[0;32mas\u001b[0m \u001b[0me\u001b[0m\u001b[0;34m:\u001b[0m\u001b[0;34m\u001b[0m\u001b[0;34m\u001b[0m\u001b[0m\n\u001b[1;32m     16\u001b[0m             \u001b[0mprint\u001b[0m\u001b[0;34m(\u001b[0m\u001b[0;34m\"Error -> \"\u001b[0m\u001b[0;34m,\u001b[0m\u001b[0me\u001b[0m\u001b[0;34m)\u001b[0m\u001b[0;34m\u001b[0m\u001b[0;34m\u001b[0m\u001b[0m\n",
      "\u001b[0;32m<ipython-input-2-92750aee45a2>\u001b[0m in \u001b[0;36msuma\u001b[0;34m(a, b)\u001b[0m\n\u001b[1;32m      2\u001b[0m \u001b[0;32mdef\u001b[0m \u001b[0msuma\u001b[0m\u001b[0;34m(\u001b[0m\u001b[0ma\u001b[0m\u001b[0;34m,\u001b[0m\u001b[0mb\u001b[0m\u001b[0;34m)\u001b[0m\u001b[0;34m:\u001b[0m\u001b[0;34m\u001b[0m\u001b[0;34m\u001b[0m\u001b[0m\n\u001b[1;32m      3\u001b[0m     \u001b[0;32mif\u001b[0m \u001b[0mtype\u001b[0m\u001b[0;34m(\u001b[0m\u001b[0ma\u001b[0m\u001b[0;34m)\u001b[0m\u001b[0;34m!=\u001b[0m\u001b[0mint\u001b[0m \u001b[0;32mor\u001b[0m \u001b[0mtype\u001b[0m\u001b[0;34m(\u001b[0m\u001b[0mb\u001b[0m\u001b[0;34m)\u001b[0m \u001b[0;34m!=\u001b[0m \u001b[0mint\u001b[0m\u001b[0;34m:\u001b[0m\u001b[0;34m\u001b[0m\u001b[0;34m\u001b[0m\u001b[0m\n\u001b[0;32m----> 4\u001b[0;31m         \u001b[0;32mraise\u001b[0m \u001b[0mValueError\u001b[0m\u001b[0;34m(\u001b[0m\u001b[0;34m\"Unsupported operand types\"\u001b[0m\u001b[0;34m)\u001b[0m\u001b[0;34m\u001b[0m\u001b[0;34m\u001b[0m\u001b[0m\n\u001b[0m\u001b[1;32m      5\u001b[0m     \u001b[0;32mreturn\u001b[0m \u001b[0ma\u001b[0m\u001b[0;34m+\u001b[0m\u001b[0mb\u001b[0m\u001b[0;34m\u001b[0m\u001b[0;34m\u001b[0m\u001b[0m\n\u001b[1;32m      6\u001b[0m \u001b[0;34m\u001b[0m\u001b[0m\n",
      "\u001b[0;31mValueError\u001b[0m: Unsupported operand types"
     ]
    }
   ],
   "source": [
    "@debugMolon\n",
    "def suma(a,b):\n",
    "    if type(a)!=int or type(b) != int:\n",
    "        raise ValueError(\"Unsupported operand types\")\n",
    "    return a+b\n",
    "\n",
    "suma(\"a\",20)"
   ]
  },
  {
   "cell_type": "code",
   "execution_count": null,
   "metadata": {},
   "outputs": [],
   "source": []
  },
  {
   "cell_type": "code",
   "execution_count": null,
   "metadata": {},
   "outputs": [],
   "source": []
  },
  {
   "cell_type": "code",
   "execution_count": null,
   "metadata": {},
   "outputs": [],
   "source": []
  }
 ],
 "metadata": {
  "kernelspec": {
   "display_name": "Python 3",
   "language": "python",
   "name": "python3"
  },
  "language_info": {
   "codemirror_mode": {
    "name": "ipython",
    "version": 3
   },
   "file_extension": ".py",
   "mimetype": "text/x-python",
   "name": "python",
   "nbconvert_exporter": "python",
   "pygments_lexer": "ipython3",
   "version": "3.7.3"
  }
 },
 "nbformat": 4,
 "nbformat_minor": 2
}
