{
 "cells": [
  {
   "cell_type": "code",
   "execution_count": 1,
   "metadata": {},
   "outputs": [
    {
     "data": {
      "text/html": [
       "<div>\n",
       "<style scoped>\n",
       "    .dataframe tbody tr th:only-of-type {\n",
       "        vertical-align: middle;\n",
       "    }\n",
       "\n",
       "    .dataframe tbody tr th {\n",
       "        vertical-align: top;\n",
       "    }\n",
       "\n",
       "    .dataframe thead th {\n",
       "        text-align: right;\n",
       "    }\n",
       "</style>\n",
       "<table border=\"1\" class=\"dataframe\">\n",
       "  <thead>\n",
       "    <tr style=\"text-align: right;\">\n",
       "      <th></th>\n",
       "      <th>date</th>\n",
       "      <th>Temperature</th>\n",
       "      <th>Humidity</th>\n",
       "      <th>Light</th>\n",
       "      <th>CO2</th>\n",
       "      <th>HumidityRatio</th>\n",
       "      <th>Occupancy</th>\n",
       "    </tr>\n",
       "  </thead>\n",
       "  <tbody>\n",
       "    <tr>\n",
       "      <th>0</th>\n",
       "      <td>2/2/2015 14:00</td>\n",
       "      <td>23.7000</td>\n",
       "      <td>26.272</td>\n",
       "      <td>585.200000</td>\n",
       "      <td>749.200000</td>\n",
       "      <td>0.004764</td>\n",
       "      <td>1</td>\n",
       "    </tr>\n",
       "    <tr>\n",
       "      <th>1</th>\n",
       "      <td>2/2/2015 15:00</td>\n",
       "      <td>23.7180</td>\n",
       "      <td>26.290</td>\n",
       "      <td>578.400000</td>\n",
       "      <td>760.400000</td>\n",
       "      <td>0.004773</td>\n",
       "      <td>1</td>\n",
       "    </tr>\n",
       "    <tr>\n",
       "      <th>2</th>\n",
       "      <td>2/2/2015 16:00</td>\n",
       "      <td>23.7300</td>\n",
       "      <td>26.230</td>\n",
       "      <td>572.666667</td>\n",
       "      <td>769.666667</td>\n",
       "      <td>0.004765</td>\n",
       "      <td>1</td>\n",
       "    </tr>\n",
       "    <tr>\n",
       "      <th>3</th>\n",
       "      <td>2/2/2015 17:00</td>\n",
       "      <td>23.7225</td>\n",
       "      <td>26.125</td>\n",
       "      <td>493.750000</td>\n",
       "      <td>774.750000</td>\n",
       "      <td>0.004744</td>\n",
       "      <td>1</td>\n",
       "    </tr>\n",
       "    <tr>\n",
       "      <th>4</th>\n",
       "      <td>2/2/2015 18:00</td>\n",
       "      <td>23.7540</td>\n",
       "      <td>26.200</td>\n",
       "      <td>488.600000</td>\n",
       "      <td>779.000000</td>\n",
       "      <td>0.004767</td>\n",
       "      <td>1</td>\n",
       "    </tr>\n",
       "  </tbody>\n",
       "</table>\n",
       "</div>"
      ],
      "text/plain": [
       "             date  Temperature  Humidity       Light         CO2  \\\n",
       "0  2/2/2015 14:00      23.7000    26.272  585.200000  749.200000   \n",
       "1  2/2/2015 15:00      23.7180    26.290  578.400000  760.400000   \n",
       "2  2/2/2015 16:00      23.7300    26.230  572.666667  769.666667   \n",
       "3  2/2/2015 17:00      23.7225    26.125  493.750000  774.750000   \n",
       "4  2/2/2015 18:00      23.7540    26.200  488.600000  779.000000   \n",
       "\n",
       "   HumidityRatio  Occupancy  \n",
       "0       0.004764          1  \n",
       "1       0.004773          1  \n",
       "2       0.004765          1  \n",
       "3       0.004744          1  \n",
       "4       0.004767          1  "
      ]
     },
     "execution_count": 1,
     "metadata": {},
     "output_type": "execute_result"
    }
   ],
   "source": [
    "import pandas as pd\n",
    "occupancy = pd.read_csv('./data/occupancy.csv')\n",
    "occupancy.head()"
   ]
  },
  {
   "cell_type": "code",
   "execution_count": 2,
   "metadata": {},
   "outputs": [
    {
     "data": {
      "text/plain": [
       "DatetimeIndex(['2015-02-02 14:00:00', '2015-02-02 15:00:00',\n",
       "               '2015-02-02 16:00:00', '2015-02-02 17:00:00',\n",
       "               '2015-02-02 18:00:00', '2015-02-02 19:00:00',\n",
       "               '2015-02-02 20:00:00', '2015-02-02 21:00:00',\n",
       "               '2015-02-02 22:00:00', '2015-02-02 23:00:00',\n",
       "               ...\n",
       "               '2015-05-24 04:00:00', '2015-05-24 05:00:00',\n",
       "               '2015-05-24 06:00:00', '2015-05-24 07:00:00',\n",
       "               '2015-05-24 08:00:00', '2015-05-24 09:00:00',\n",
       "               '2015-05-24 10:00:00', '2015-05-24 11:00:00',\n",
       "               '2015-05-24 12:00:00', '2015-05-24 13:00:00'],\n",
       "              dtype='datetime64[ns]', name='date', length=2664, freq='H')"
      ]
     },
     "execution_count": 2,
     "metadata": {},
     "output_type": "execute_result"
    }
   ],
   "source": [
    "occupancy.date = pd.to_datetime(occupancy.date)\n",
    "occupancy.index = pd.DatetimeIndex(occupancy.date, freq='H')\n",
    "occupancy.index"
   ]
  },
  {
   "cell_type": "code",
   "execution_count": 3,
   "metadata": {},
   "outputs": [
    {
     "data": {
      "text/html": [
       "<div>\n",
       "<style scoped>\n",
       "    .dataframe tbody tr th:only-of-type {\n",
       "        vertical-align: middle;\n",
       "    }\n",
       "\n",
       "    .dataframe tbody tr th {\n",
       "        vertical-align: top;\n",
       "    }\n",
       "\n",
       "    .dataframe thead th {\n",
       "        text-align: right;\n",
       "    }\n",
       "</style>\n",
       "<table border=\"1\" class=\"dataframe\">\n",
       "  <thead>\n",
       "    <tr style=\"text-align: right;\">\n",
       "      <th></th>\n",
       "      <th>date</th>\n",
       "      <th>Temperature</th>\n",
       "      <th>Humidity</th>\n",
       "      <th>Light</th>\n",
       "      <th>CO2</th>\n",
       "      <th>HumidityRatio</th>\n",
       "      <th>Occupancy</th>\n",
       "    </tr>\n",
       "    <tr>\n",
       "      <th>date</th>\n",
       "      <th></th>\n",
       "      <th></th>\n",
       "      <th></th>\n",
       "      <th></th>\n",
       "      <th></th>\n",
       "      <th></th>\n",
       "      <th></th>\n",
       "    </tr>\n",
       "  </thead>\n",
       "  <tbody>\n",
       "    <tr>\n",
       "      <th>2015-02-02 14:00:00</th>\n",
       "      <td>2015-02-02 14:00:00</td>\n",
       "      <td>23.7000</td>\n",
       "      <td>26.272</td>\n",
       "      <td>585.200000</td>\n",
       "      <td>749.200000</td>\n",
       "      <td>0.004764</td>\n",
       "      <td>1</td>\n",
       "    </tr>\n",
       "    <tr>\n",
       "      <th>2015-02-02 15:00:00</th>\n",
       "      <td>2015-02-02 15:00:00</td>\n",
       "      <td>23.7180</td>\n",
       "      <td>26.290</td>\n",
       "      <td>578.400000</td>\n",
       "      <td>760.400000</td>\n",
       "      <td>0.004773</td>\n",
       "      <td>1</td>\n",
       "    </tr>\n",
       "    <tr>\n",
       "      <th>2015-02-02 16:00:00</th>\n",
       "      <td>2015-02-02 16:00:00</td>\n",
       "      <td>23.7300</td>\n",
       "      <td>26.230</td>\n",
       "      <td>572.666667</td>\n",
       "      <td>769.666667</td>\n",
       "      <td>0.004765</td>\n",
       "      <td>1</td>\n",
       "    </tr>\n",
       "    <tr>\n",
       "      <th>2015-02-02 17:00:00</th>\n",
       "      <td>2015-02-02 17:00:00</td>\n",
       "      <td>23.7225</td>\n",
       "      <td>26.125</td>\n",
       "      <td>493.750000</td>\n",
       "      <td>774.750000</td>\n",
       "      <td>0.004744</td>\n",
       "      <td>1</td>\n",
       "    </tr>\n",
       "    <tr>\n",
       "      <th>2015-02-02 18:00:00</th>\n",
       "      <td>2015-02-02 18:00:00</td>\n",
       "      <td>23.7540</td>\n",
       "      <td>26.200</td>\n",
       "      <td>488.600000</td>\n",
       "      <td>779.000000</td>\n",
       "      <td>0.004767</td>\n",
       "      <td>1</td>\n",
       "    </tr>\n",
       "  </tbody>\n",
       "</table>\n",
       "</div>"
      ],
      "text/plain": [
       "                                   date  Temperature  Humidity       Light  \\\n",
       "date                                                                         \n",
       "2015-02-02 14:00:00 2015-02-02 14:00:00      23.7000    26.272  585.200000   \n",
       "2015-02-02 15:00:00 2015-02-02 15:00:00      23.7180    26.290  578.400000   \n",
       "2015-02-02 16:00:00 2015-02-02 16:00:00      23.7300    26.230  572.666667   \n",
       "2015-02-02 17:00:00 2015-02-02 17:00:00      23.7225    26.125  493.750000   \n",
       "2015-02-02 18:00:00 2015-02-02 18:00:00      23.7540    26.200  488.600000   \n",
       "\n",
       "                            CO2  HumidityRatio  Occupancy  \n",
       "date                                                       \n",
       "2015-02-02 14:00:00  749.200000       0.004764          1  \n",
       "2015-02-02 15:00:00  760.400000       0.004773          1  \n",
       "2015-02-02 16:00:00  769.666667       0.004765          1  \n",
       "2015-02-02 17:00:00  774.750000       0.004744          1  \n",
       "2015-02-02 18:00:00  779.000000       0.004767          1  "
      ]
     },
     "execution_count": 3,
     "metadata": {},
     "output_type": "execute_result"
    }
   ],
   "source": [
    "occupancy.head()"
   ]
  },
  {
   "cell_type": "code",
   "execution_count": 15,
   "metadata": {},
   "outputs": [
    {
     "name": "stdout",
     "output_type": "stream",
     "text": [
      "Figure(432x288)\n"
     ]
    },
    {
     "data": {
      "image/png": "[encoded data removed]",
      "text/plain": [
       "<Figure size 432x288 with 4 Axes>"
      ]
     },
     "metadata": {
      "needs_background": "light"
     },
     "output_type": "display_data"
    }
   ],
   "source": [
    "import statsmodels.api as sm\n",
    "res = sm.tsa.seasonal_decompose(occupancy.CO2)\n",
    "print(res.plot())"
   ]
  },
  {
   "cell_type": "code",
   "execution_count": null,
   "metadata": {},
   "outputs": [],
   "source": [
    "%matplotlib inline\n",
    "import statsmodels.api as sm\n",
    "\n",
    "res = sm.tsa.seasonal_decompose(occupancy.CO2[0:(24*7)])\n",
    "#print(res.seasonal)\n",
    "print(res.plot())"
   ]
  },
  {
   "cell_type": "code",
   "execution_count": null,
   "metadata": {},
   "outputs": [],
   "source": [
    "T = 3600\n",
    "F = 1/3600\n",
    "print(f'T={T}seg f={F}Hz')"
   ]
  },
  {
   "cell_type": "code",
   "execution_count": 5,
   "metadata": {},
   "outputs": [
    {
     "ename": "NameError",
     "evalue": "name 'res' is not defined",
     "output_type": "error",
     "traceback": [
      "\u001b[0;31m---------------------------------------------------------------------------\u001b[0m",
      "\u001b[0;31mNameError\u001b[0m                                 Traceback (most recent call last)",
      "\u001b[0;32m<ipython-input-5-e700e39ab21e>\u001b[0m in \u001b[0;36m<module>\u001b[0;34m\u001b[0m\n\u001b[1;32m      3\u001b[0m \u001b[0;32mimport\u001b[0m \u001b[0mmatplotlib\u001b[0m\u001b[0;34m.\u001b[0m\u001b[0mpyplot\u001b[0m \u001b[0;32mas\u001b[0m \u001b[0mplt\u001b[0m\u001b[0;34m\u001b[0m\u001b[0;34m\u001b[0m\u001b[0m\n\u001b[1;32m      4\u001b[0m \u001b[0;34m\u001b[0m\u001b[0m\n\u001b[0;32m----> 5\u001b[0;31m \u001b[0mmod_FFT\u001b[0m \u001b[0;34m=\u001b[0m \u001b[0mnp\u001b[0m\u001b[0;34m.\u001b[0m\u001b[0mabs\u001b[0m\u001b[0;34m(\u001b[0m\u001b[0mfft\u001b[0m\u001b[0;34m(\u001b[0m\u001b[0mres\u001b[0m\u001b[0;34m.\u001b[0m\u001b[0mseasonal\u001b[0m\u001b[0;34m)\u001b[0m\u001b[0;34m)\u001b[0m\u001b[0;34m\u001b[0m\u001b[0;34m\u001b[0m\u001b[0m\n\u001b[0m\u001b[1;32m      6\u001b[0m \u001b[0mprint\u001b[0m\u001b[0;34m(\u001b[0m\u001b[0mlen\u001b[0m\u001b[0;34m(\u001b[0m\u001b[0mmod_FFT\u001b[0m\u001b[0;34m)\u001b[0m\u001b[0;34m//\u001b[0m\u001b[0;36m2\u001b[0m\u001b[0;34m)\u001b[0m\u001b[0;34m\u001b[0m\u001b[0;34m\u001b[0m\u001b[0m\n\u001b[1;32m      7\u001b[0m \u001b[0mmod_FFT\u001b[0m \u001b[0;34m=\u001b[0m \u001b[0mmod_FFT\u001b[0m\u001b[0;34m[\u001b[0m\u001b[0;36m0\u001b[0m\u001b[0;34m:\u001b[0m\u001b[0mlen\u001b[0m\u001b[0;34m(\u001b[0m\u001b[0mmod_FFT\u001b[0m\u001b[0;34m)\u001b[0m\u001b[0;34m//\u001b[0m\u001b[0;36m2\u001b[0m\u001b[0;34m]\u001b[0m\u001b[0;34m\u001b[0m\u001b[0;34m\u001b[0m\u001b[0m\n",
      "\u001b[0;31mNameError\u001b[0m: name 'res' is not defined"
     ]
    }
   ],
   "source": [
    "from scipy.fftpack import fft\n",
    "import numpy as np\n",
    "import matplotlib.pyplot as plt\n",
    "\n",
    "mod_FFT = np.abs(fft(res.seasonal))\n",
    "print(len(mod_FFT)//2)\n",
    "mod_FFT = mod_FFT[0:len(mod_FFT)//2]\n",
    "\n",
    "x = np.arange(0,F,F/len(mod_FFT))\n",
    "\n",
    "plt.stem(x[:50],mod_FFT[:50])\n",
    "print(x[7],1/x[7]/3600,mod_FFT[2])"
   ]
  },
  {
   "cell_type": "code",
   "execution_count": 33,
   "metadata": {},
   "outputs": [],
   "source": [
    "import math\n",
    "Fm = 100\n",
    "total_seconds = 1\n",
    "x = np.arange(0,total_seconds,total_seconds/Fm)\n",
    "\n",
    "f_osc = 1 \n",
    "y = np.sin((2*math.pi*f_osc)*x) + 0.1 * np.sin((2*math.pi*10)*x)\n",
    "# f(x) = y(x) + n(x)"
   ]
  },
  {
   "cell_type": "code",
   "execution_count": 34,
   "metadata": {},
   "outputs": [
    {
     "data": {
      "text/plain": [
       "[<matplotlib.lines.Line2D at 0x1151ea690>]"
      ]
     },
     "execution_count": 34,
     "metadata": {},
     "output_type": "execute_result"
    },
    {
     "data": {
      "image/png": "[encoded data removed]",
      "text/plain": [
       "<Figure size 432x288 with 1 Axes>"
      ]
     },
     "metadata": {
      "needs_background": "light"
     },
     "output_type": "display_data"
    }
   ],
   "source": [
    "plt.plot(x,y)"
   ]
  },
  {
   "cell_type": "code",
   "execution_count": 35,
   "metadata": {},
   "outputs": [
    {
     "data": {
      "text/plain": [
       "<StemContainer object of 3 artists>"
      ]
     },
     "execution_count": 35,
     "metadata": {},
     "output_type": "execute_result"
    },
    {
     "data": {
      "image/png": "[encoded data removed]",
      "text/plain": [
       "<Figure size 432x288 with 1 Axes>"
      ]
     },
     "metadata": {
      "needs_background": "light"
     },
     "output_type": "display_data"
    }
   ],
   "source": [
    "fft_mod = np.abs(fft(y))\n",
    "fft_mod = fft_mod[0:len(fft_mod)//2]\n",
    "\n",
    "fx = np.arange(0,Fm/2,Fm/2/len(fft_mod))\n",
    "plt.stem(fx,fft_mod)"
   ]
  },
  {
   "cell_type": "code",
   "execution_count": 36,
   "metadata": {},
   "outputs": [
    {
     "data": {
      "text/plain": [
       "<matplotlib.legend.Legend at 0x115027890>"
      ]
     },
     "execution_count": 36,
     "metadata": {},
     "output_type": "execute_result"
    },
    {
     "data": {
      "image/png": "[encoded data removed]",
      "text/plain": [
       "<Figure size 432x288 with 1 Axes>"
      ]
     },
     "metadata": {
      "needs_background": "light"
     },
     "output_type": "display_data"
    }
   ],
   "source": [
    "import numpy as np\n",
    "from scipy import signal\n",
    "\n",
    "\n",
    "# Define filter cutoff frequency and degree\n",
    "b, a = signal.butter(3, 1/10)\n",
    "\n",
    "# Apply modeled filter to data\n",
    "y_filtered = signal.filtfilt(b, a, y)\n",
    "\n",
    "plt.plot(x,y)\n",
    "plt.plot(x,y_filtered)\n",
    "plt.legend([\"Original\",\"Filtered\"])\n"
   ]
  },
  {
   "cell_type": "code",
   "execution_count": 28,
   "metadata": {},
   "outputs": [
    {
     "data": {
      "text/plain": [
       "[<matplotlib.lines.Line2D at 0x115f3c2d0>]"
      ]
     },
     "execution_count": 28,
     "metadata": {},
     "output_type": "execute_result"
    },
    {
     "data": {
      "image/png": "[encoded data removed]",
      "text/plain": [
       "<Figure size 1440x360 with 3 Axes>"
      ]
     },
     "metadata": {
      "needs_background": "light"
     },
     "output_type": "display_data"
    }
   ],
   "source": [
    "import numpy as np\n",
    "from scipy import signal\n",
    "\n",
    "# Load time series data from somewhere\n",
    "data = occupancy.CO2[0:1000]\n",
    "\n",
    "# Define filter cutoff frequency and degree\n",
    "b, a = signal.butter(3, 1/10)\n",
    "\n",
    "# Apply modeled filter to data\n",
    "data_filtered = signal.filtfilt(b, a, data)\n",
    "\n",
    "# Show the difference between filtered and unfiltered data\n",
    "data_t1 = pd.Series(data_filtered).shift(periods=-1)\n",
    "difference = data_filtered - data_t1\n",
    "\n",
    "plt.figure(figsize=(20,5))\n",
    "plt.subplot(1,3,1)\n",
    "plt.plot(data)\n",
    "plt.subplot(1,3,2)\n",
    "plt.plot(data_filtered)\n",
    "plt.subplot(1,3,3)\n",
    "plt.plot(difference)"
   ]
  },
  {
   "cell_type": "markdown",
   "metadata": {},
   "source": [
    "# Predicting temporal series"
   ]
  },
  {
   "cell_type": "code",
   "execution_count": 40,
   "metadata": {},
   "outputs": [
    {
     "name": "stdout",
     "output_type": "stream",
     "text": [
      "2654 10\n"
     ]
    }
   ],
   "source": [
    "train, test = occupancy.CO2[:-10], occupancy.CO2[-10:]\n",
    "print(len(train),len(test))\n"
   ]
  },
  {
   "cell_type": "code",
   "execution_count": 42,
   "metadata": {},
   "outputs": [],
   "source": [
    "from statsmodels.tsa.ar_model import AR\n",
    "model = AR(train)\n",
    "model_fit = model.fit(maxlag=1)\n",
    "predictions = model_fit.predict(start=len(train),\n",
    "                                end=len(train)+len(test)-1, dynamic=False)\n",
    "\n",
    "\n"
   ]
  },
  {
   "cell_type": "code",
   "execution_count": 51,
   "metadata": {},
   "outputs": [
    {
     "data": {
      "text/html": [
       "<div>\n",
       "<style scoped>\n",
       "    .dataframe tbody tr th:only-of-type {\n",
       "        vertical-align: middle;\n",
       "    }\n",
       "\n",
       "    .dataframe tbody tr th {\n",
       "        vertical-align: top;\n",
       "    }\n",
       "\n",
       "    .dataframe thead th {\n",
       "        text-align: right;\n",
       "    }\n",
       "</style>\n",
       "<table border=\"1\" class=\"dataframe\">\n",
       "  <thead>\n",
       "    <tr style=\"text-align: right;\">\n",
       "      <th></th>\n",
       "      <th>pred</th>\n",
       "      <th>GT</th>\n",
       "      <th>diff</th>\n",
       "    </tr>\n",
       "  </thead>\n",
       "  <tbody>\n",
       "    <tr>\n",
       "      <th>2015-05-24 04:00:00</th>\n",
       "      <td>1152.762619</td>\n",
       "      <td>1153.250000</td>\n",
       "      <td>-0.487381</td>\n",
       "    </tr>\n",
       "    <tr>\n",
       "      <th>2015-05-24 05:00:00</th>\n",
       "      <td>1153.025305</td>\n",
       "      <td>1152.400000</td>\n",
       "      <td>0.625305</td>\n",
       "    </tr>\n",
       "    <tr>\n",
       "      <th>2015-05-24 06:00:00</th>\n",
       "      <td>1153.288058</td>\n",
       "      <td>1146.166667</td>\n",
       "      <td>7.121391</td>\n",
       "    </tr>\n",
       "    <tr>\n",
       "      <th>2015-05-24 07:00:00</th>\n",
       "      <td>1153.550877</td>\n",
       "      <td>1145.400000</td>\n",
       "      <td>8.150877</td>\n",
       "    </tr>\n",
       "    <tr>\n",
       "      <th>2015-05-24 08:00:00</th>\n",
       "      <td>1153.813763</td>\n",
       "      <td>1140.800000</td>\n",
       "      <td>13.013763</td>\n",
       "    </tr>\n",
       "    <tr>\n",
       "      <th>2015-05-24 09:00:00</th>\n",
       "      <td>1154.076715</td>\n",
       "      <td>1150.250000</td>\n",
       "      <td>3.826715</td>\n",
       "    </tr>\n",
       "    <tr>\n",
       "      <th>2015-05-24 10:00:00</th>\n",
       "      <td>1154.339734</td>\n",
       "      <td>1129.200000</td>\n",
       "      <td>25.139734</td>\n",
       "    </tr>\n",
       "    <tr>\n",
       "      <th>2015-05-24 11:00:00</th>\n",
       "      <td>1154.602820</td>\n",
       "      <td>1125.800000</td>\n",
       "      <td>28.802820</td>\n",
       "    </tr>\n",
       "    <tr>\n",
       "      <th>2015-05-24 12:00:00</th>\n",
       "      <td>1154.865972</td>\n",
       "      <td>1123.000000</td>\n",
       "      <td>31.865972</td>\n",
       "    </tr>\n",
       "    <tr>\n",
       "      <th>2015-05-24 13:00:00</th>\n",
       "      <td>1155.129191</td>\n",
       "      <td>1124.000000</td>\n",
       "      <td>31.129191</td>\n",
       "    </tr>\n",
       "  </tbody>\n",
       "</table>\n",
       "</div>"
      ],
      "text/plain": [
       "                            pred           GT       diff\n",
       "2015-05-24 04:00:00  1152.762619  1153.250000  -0.487381\n",
       "2015-05-24 05:00:00  1153.025305  1152.400000   0.625305\n",
       "2015-05-24 06:00:00  1153.288058  1146.166667   7.121391\n",
       "2015-05-24 07:00:00  1153.550877  1145.400000   8.150877\n",
       "2015-05-24 08:00:00  1153.813763  1140.800000  13.013763\n",
       "2015-05-24 09:00:00  1154.076715  1150.250000   3.826715\n",
       "2015-05-24 10:00:00  1154.339734  1129.200000  25.139734\n",
       "2015-05-24 11:00:00  1154.602820  1125.800000  28.802820\n",
       "2015-05-24 12:00:00  1154.865972  1123.000000  31.865972\n",
       "2015-05-24 13:00:00  1155.129191  1124.000000  31.129191"
      ]
     },
     "execution_count": 51,
     "metadata": {},
     "output_type": "execute_result"
    }
   ],
   "source": [
    "eval_models = pd.DataFrame({\n",
    "    \"pred\":predictions,\n",
    "    \"GT\":test,\n",
    "    \"diff\": predictions-test\n",
    "})\n",
    "\n",
    "eval_models "
   ]
  },
  {
   "cell_type": "code",
   "execution_count": 74,
   "metadata": {},
   "outputs": [],
   "source": [
    "from statsmodels.tsa.arima_model import ARMA\n",
    "\n",
    "model = ARMA(train, order=(5, 3))\n",
    "model_fit = model.fit(disp=False)\n",
    "\n",
    "predictions_ARMA = model_fit.predict(len(train), len(train)+len(test)-1)"
   ]
  },
  {
   "cell_type": "code",
   "execution_count": 75,
   "metadata": {},
   "outputs": [],
   "source": [
    "eval_models[\"ARMA\"] = predictions_ARMA\n",
    "eval_models[\"diff_arma\"] = predictions_ARMA - eval_models[\"GT\"]"
   ]
  },
  {
   "cell_type": "code",
   "execution_count": 76,
   "metadata": {},
   "outputs": [
    {
     "data": {
      "text/html": [
       "<div>\n",
       "<style scoped>\n",
       "    .dataframe tbody tr th:only-of-type {\n",
       "        vertical-align: middle;\n",
       "    }\n",
       "\n",
       "    .dataframe tbody tr th {\n",
       "        vertical-align: top;\n",
       "    }\n",
       "\n",
       "    .dataframe thead th {\n",
       "        text-align: right;\n",
       "    }\n",
       "</style>\n",
       "<table border=\"1\" class=\"dataframe\">\n",
       "  <thead>\n",
       "    <tr style=\"text-align: right;\">\n",
       "      <th></th>\n",
       "      <th>pred</th>\n",
       "      <th>GT</th>\n",
       "      <th>diff</th>\n",
       "      <th>ARMA</th>\n",
       "      <th>diff_arma</th>\n",
       "    </tr>\n",
       "  </thead>\n",
       "  <tbody>\n",
       "    <tr>\n",
       "      <th>2015-05-24 04:00:00</th>\n",
       "      <td>1152.762619</td>\n",
       "      <td>1153.250000</td>\n",
       "      <td>-0.487381</td>\n",
       "      <td>1153.034598</td>\n",
       "      <td>-0.215402</td>\n",
       "    </tr>\n",
       "    <tr>\n",
       "      <th>2015-05-24 05:00:00</th>\n",
       "      <td>1153.025305</td>\n",
       "      <td>1152.400000</td>\n",
       "      <td>0.625305</td>\n",
       "      <td>1153.649583</td>\n",
       "      <td>1.249583</td>\n",
       "    </tr>\n",
       "    <tr>\n",
       "      <th>2015-05-24 06:00:00</th>\n",
       "      <td>1153.288058</td>\n",
       "      <td>1146.166667</td>\n",
       "      <td>7.121391</td>\n",
       "      <td>1154.299395</td>\n",
       "      <td>8.132728</td>\n",
       "    </tr>\n",
       "    <tr>\n",
       "      <th>2015-05-24 07:00:00</th>\n",
       "      <td>1153.550877</td>\n",
       "      <td>1145.400000</td>\n",
       "      <td>8.150877</td>\n",
       "      <td>1154.922557</td>\n",
       "      <td>9.522557</td>\n",
       "    </tr>\n",
       "    <tr>\n",
       "      <th>2015-05-24 08:00:00</th>\n",
       "      <td>1153.813763</td>\n",
       "      <td>1140.800000</td>\n",
       "      <td>13.013763</td>\n",
       "      <td>1155.480982</td>\n",
       "      <td>14.680982</td>\n",
       "    </tr>\n",
       "    <tr>\n",
       "      <th>2015-05-24 09:00:00</th>\n",
       "      <td>1154.076715</td>\n",
       "      <td>1150.250000</td>\n",
       "      <td>3.826715</td>\n",
       "      <td>1156.003669</td>\n",
       "      <td>5.753669</td>\n",
       "    </tr>\n",
       "    <tr>\n",
       "      <th>2015-05-24 10:00:00</th>\n",
       "      <td>1154.339734</td>\n",
       "      <td>1129.200000</td>\n",
       "      <td>25.139734</td>\n",
       "      <td>1156.502342</td>\n",
       "      <td>27.302342</td>\n",
       "    </tr>\n",
       "    <tr>\n",
       "      <th>2015-05-24 11:00:00</th>\n",
       "      <td>1154.602820</td>\n",
       "      <td>1125.800000</td>\n",
       "      <td>28.802820</td>\n",
       "      <td>1156.966105</td>\n",
       "      <td>31.166105</td>\n",
       "    </tr>\n",
       "    <tr>\n",
       "      <th>2015-05-24 12:00:00</th>\n",
       "      <td>1154.865972</td>\n",
       "      <td>1123.000000</td>\n",
       "      <td>31.865972</td>\n",
       "      <td>1157.391907</td>\n",
       "      <td>34.391907</td>\n",
       "    </tr>\n",
       "    <tr>\n",
       "      <th>2015-05-24 13:00:00</th>\n",
       "      <td>1155.129191</td>\n",
       "      <td>1124.000000</td>\n",
       "      <td>31.129191</td>\n",
       "      <td>1157.784261</td>\n",
       "      <td>33.784261</td>\n",
       "    </tr>\n",
       "  </tbody>\n",
       "</table>\n",
       "</div>"
      ],
      "text/plain": [
       "                            pred           GT       diff         ARMA  \\\n",
       "2015-05-24 04:00:00  1152.762619  1153.250000  -0.487381  1153.034598   \n",
       "2015-05-24 05:00:00  1153.025305  1152.400000   0.625305  1153.649583   \n",
       "2015-05-24 06:00:00  1153.288058  1146.166667   7.121391  1154.299395   \n",
       "2015-05-24 07:00:00  1153.550877  1145.400000   8.150877  1154.922557   \n",
       "2015-05-24 08:00:00  1153.813763  1140.800000  13.013763  1155.480982   \n",
       "2015-05-24 09:00:00  1154.076715  1150.250000   3.826715  1156.003669   \n",
       "2015-05-24 10:00:00  1154.339734  1129.200000  25.139734  1156.502342   \n",
       "2015-05-24 11:00:00  1154.602820  1125.800000  28.802820  1156.966105   \n",
       "2015-05-24 12:00:00  1154.865972  1123.000000  31.865972  1157.391907   \n",
       "2015-05-24 13:00:00  1155.129191  1124.000000  31.129191  1157.784261   \n",
       "\n",
       "                     diff_arma  \n",
       "2015-05-24 04:00:00  -0.215402  \n",
       "2015-05-24 05:00:00   1.249583  \n",
       "2015-05-24 06:00:00   8.132728  \n",
       "2015-05-24 07:00:00   9.522557  \n",
       "2015-05-24 08:00:00  14.680982  \n",
       "2015-05-24 09:00:00   5.753669  \n",
       "2015-05-24 10:00:00  27.302342  \n",
       "2015-05-24 11:00:00  31.166105  \n",
       "2015-05-24 12:00:00  34.391907  \n",
       "2015-05-24 13:00:00  33.784261  "
      ]
     },
     "execution_count": 76,
     "metadata": {},
     "output_type": "execute_result"
    }
   ],
   "source": [
    "eval_models"
   ]
  },
  {
   "cell_type": "code",
   "execution_count": 78,
   "metadata": {},
   "outputs": [
    {
     "name": "stdout",
     "output_type": "stream",
     "text": [
      "374.7856691083888 444.798771946939\n"
     ]
    }
   ],
   "source": [
    "MSE_AR = (eval_models[\"diff\"]**2).sum()/len(eval_models[\"diff\"])\n",
    "MSE_ARMA = (eval_models[\"diff_arma\"]**2).sum()/len(eval_models[\"diff_arma\"])\n",
    "\n",
    "print(MSE_AR,MSE_ARMA)"
   ]
  },
  {
   "cell_type": "code",
   "execution_count": null,
   "metadata": {},
   "outputs": [],
   "source": []
  }
 ],
 "metadata": {
  "kernelspec": {
   "display_name": "Python 3",
   "language": "python",
   "name": "python3"
  },
  "language_info": {
   "codemirror_mode": {
    "name": "ipython",
    "version": 3
   },
   "file_extension": ".py",
   "mimetype": "text/x-python",
   "name": "python",
   "nbconvert_exporter": "python",
   "pygments_lexer": "ipython3",
   "version": "3.7.5"
  }
 },
 "nbformat": 4,
 "nbformat_minor": 2
}
