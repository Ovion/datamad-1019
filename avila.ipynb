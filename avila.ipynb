{
 "cells": [
  {
   "cell_type": "code",
   "execution_count": 1,
   "metadata": {},
   "outputs": [
    {
     "name": "stdout",
     "output_type": "stream",
     "text": [
      "(10437, 11)\n"
     ]
    },
    {
     "data": {
      "text/html": [
       "<div>\n",
       "<style scoped>\n",
       "    .dataframe tbody tr th:only-of-type {\n",
       "        vertical-align: middle;\n",
       "    }\n",
       "\n",
       "    .dataframe tbody tr th {\n",
       "        vertical-align: top;\n",
       "    }\n",
       "\n",
       "    .dataframe thead th {\n",
       "        text-align: right;\n",
       "    }\n",
       "</style>\n",
       "<table border=\"1\" class=\"dataframe\">\n",
       "  <thead>\n",
       "    <tr style=\"text-align: right;\">\n",
       "      <th></th>\n",
       "      <th>0</th>\n",
       "      <th>1</th>\n",
       "      <th>2</th>\n",
       "      <th>3</th>\n",
       "      <th>4</th>\n",
       "      <th>5</th>\n",
       "      <th>6</th>\n",
       "      <th>7</th>\n",
       "      <th>8</th>\n",
       "      <th>9</th>\n",
       "      <th>10</th>\n",
       "    </tr>\n",
       "  </thead>\n",
       "  <tbody>\n",
       "    <tr>\n",
       "      <th>0</th>\n",
       "      <td>-3.498799</td>\n",
       "      <td>0.250492</td>\n",
       "      <td>0.232070</td>\n",
       "      <td>1.224178</td>\n",
       "      <td>-4.922215</td>\n",
       "      <td>1.145386</td>\n",
       "      <td>0.182426</td>\n",
       "      <td>-0.165983</td>\n",
       "      <td>-0.123005</td>\n",
       "      <td>1.087144</td>\n",
       "      <td>W</td>\n",
       "    </tr>\n",
       "    <tr>\n",
       "      <th>1</th>\n",
       "      <td>0.204355</td>\n",
       "      <td>-0.354049</td>\n",
       "      <td>0.320980</td>\n",
       "      <td>0.410166</td>\n",
       "      <td>-0.989576</td>\n",
       "      <td>-2.218127</td>\n",
       "      <td>0.220177</td>\n",
       "      <td>0.181844</td>\n",
       "      <td>2.090879</td>\n",
       "      <td>-2.009758</td>\n",
       "      <td>A</td>\n",
       "    </tr>\n",
       "    <tr>\n",
       "      <th>2</th>\n",
       "      <td>0.759828</td>\n",
       "      <td>-1.304042</td>\n",
       "      <td>-0.023991</td>\n",
       "      <td>-0.973663</td>\n",
       "      <td>-0.006417</td>\n",
       "      <td>-0.349509</td>\n",
       "      <td>-0.421580</td>\n",
       "      <td>-0.450127</td>\n",
       "      <td>0.469443</td>\n",
       "      <td>0.060952</td>\n",
       "      <td>I</td>\n",
       "    </tr>\n",
       "    <tr>\n",
       "      <th>3</th>\n",
       "      <td>-0.005490</td>\n",
       "      <td>0.360409</td>\n",
       "      <td>0.281860</td>\n",
       "      <td>-0.213479</td>\n",
       "      <td>-1.168333</td>\n",
       "      <td>-1.013906</td>\n",
       "      <td>-0.346080</td>\n",
       "      <td>1.176165</td>\n",
       "      <td>0.968347</td>\n",
       "      <td>-0.627999</td>\n",
       "      <td>E</td>\n",
       "    </tr>\n",
       "    <tr>\n",
       "      <th>4</th>\n",
       "      <td>0.080916</td>\n",
       "      <td>0.101320</td>\n",
       "      <td>0.104040</td>\n",
       "      <td>0.140490</td>\n",
       "      <td>0.261718</td>\n",
       "      <td>0.480988</td>\n",
       "      <td>0.710932</td>\n",
       "      <td>-0.253430</td>\n",
       "      <td>-0.497183</td>\n",
       "      <td>0.155681</td>\n",
       "      <td>A</td>\n",
       "    </tr>\n",
       "  </tbody>\n",
       "</table>\n",
       "</div>"
      ],
      "text/plain": [
       "         0         1         2         3         4         5         6   \\\n",
       "0 -3.498799  0.250492  0.232070  1.224178 -4.922215  1.145386  0.182426   \n",
       "1  0.204355 -0.354049  0.320980  0.410166 -0.989576 -2.218127  0.220177   \n",
       "2  0.759828 -1.304042 -0.023991 -0.973663 -0.006417 -0.349509 -0.421580   \n",
       "3 -0.005490  0.360409  0.281860 -0.213479 -1.168333 -1.013906 -0.346080   \n",
       "4  0.080916  0.101320  0.104040  0.140490  0.261718  0.480988  0.710932   \n",
       "\n",
       "         7         8         9  10  \n",
       "0 -0.165983 -0.123005  1.087144  W  \n",
       "1  0.181844  2.090879 -2.009758  A  \n",
       "2 -0.450127  0.469443  0.060952  I  \n",
       "3  1.176165  0.968347 -0.627999  E  \n",
       "4 -0.253430 -0.497183  0.155681  A  "
      ]
     },
     "execution_count": 1,
     "metadata": {},
     "output_type": "execute_result"
    }
   ],
   "source": [
    "import pandas as pd\n",
    "\n",
    "df = pd.read_csv('./data/avila/avila-ts.txt', header=None)\n",
    "print(df.shape)\n",
    "df.head()"
   ]
  },
  {
   "cell_type": "code",
   "execution_count": 2,
   "metadata": {},
   "outputs": [],
   "source": [
    "y = df[10]\n",
    "X = df[list(range(0,10))]\n"
   ]
  },
  {
   "cell_type": "code",
   "execution_count": 3,
   "metadata": {},
   "outputs": [],
   "source": [
    "from sklearn.model_selection import train_test_split\n",
    "X_train, X_test, y_train, y_test = train_test_split(X, y, test_size=0.2)"
   ]
  },
  {
   "cell_type": "code",
   "execution_count": 4,
   "metadata": {},
   "outputs": [
    {
     "name": "stdout",
     "output_type": "stream",
     "text": [
      "Training model: svm\n"
     ]
    },
    {
     "name": "stderr",
     "output_type": "stream",
     "text": [
      "/usr/local/lib/python3.7/site-packages/sklearn/svm/base.py:922: ConvergenceWarning: Liblinear failed to converge, increase the number of iterations.\n",
      "  \"the number of iterations.\", ConvergenceWarning)\n",
      "/usr/local/lib/python3.7/site-packages/sklearn/linear_model/logistic.py:460: FutureWarning: Default multi_class will be changed to 'auto' in 0.22. Specify the multi_class option to silence this warning.\n",
      "  \"this warning.\", FutureWarning)\n"
     ]
    },
    {
     "name": "stdout",
     "output_type": "stream",
     "text": [
      "Training model: logistic\n",
      "Training model: forest\n"
     ]
    },
    {
     "name": "stderr",
     "output_type": "stream",
     "text": [
      "/usr/local/lib/python3.7/site-packages/sklearn/ensemble/forest.py:246: FutureWarning: The default value of n_estimators will change from 10 in version 0.20 to 100 in 0.22.\n",
      "  \"10 in version 0.20 to 100 in 0.22.\", FutureWarning)\n"
     ]
    }
   ],
   "source": [
    "from sklearn.svm import LinearSVC\n",
    "from sklearn.linear_model import LogisticRegression\n",
    "from sklearn.ensemble import RandomForestClassifier\n",
    "\n",
    "models = {\n",
    "    \"svm\": LinearSVC(),\n",
    "    \"logistic\": LogisticRegression(solver='lbfgs', max_iter=2000),\n",
    "    \"forest\": RandomForestClassifier(),    \n",
    "}\n",
    "\n",
    "for modelName, model in models.items():\n",
    "    print(f\"Training model: {modelName}\")\n",
    "    model.fit(X_train, y_train)\n",
    "\n"
   ]
  },
  {
   "cell_type": "code",
   "execution_count": 5,
   "metadata": {},
   "outputs": [
    {
     "name": "stdout",
     "output_type": "stream",
     "text": [
      "====svm====\n",
      "              precision    recall  f1-score   support\n",
      "\n",
      "           A       0.50      0.97      0.66       876\n",
      "           B       1.00      1.00      1.00         1\n",
      "           C       0.00      0.00      0.00        24\n",
      "           D       0.00      0.00      0.00        73\n",
      "           E       0.25      0.02      0.04       231\n",
      "           F       0.24      0.03      0.05       391\n",
      "           G       0.00      0.00      0.00        71\n",
      "           H       0.83      0.05      0.10        98\n",
      "           I       0.64      0.88      0.74       152\n",
      "           W       0.00      0.00      0.00         5\n",
      "           X       0.79      0.71      0.75       104\n",
      "           Y       0.61      0.18      0.27        62\n",
      "\n",
      "   micro avg       0.52      0.52      0.52      2088\n",
      "   macro avg       0.40      0.32      0.30      2088\n",
      "weighted avg       0.43      0.52      0.40      2088\n",
      "\n",
      "====logistic====\n"
     ]
    },
    {
     "name": "stderr",
     "output_type": "stream",
     "text": [
      "/usr/local/lib/python3.7/site-packages/sklearn/metrics/classification.py:1143: UndefinedMetricWarning: Precision and F-score are ill-defined and being set to 0.0 in labels with no predicted samples.\n",
      "  'precision', 'predicted', average, warn_for)\n",
      "/usr/local/lib/python3.7/site-packages/sklearn/metrics/classification.py:1143: UndefinedMetricWarning: Precision and F-score are ill-defined and being set to 0.0 in labels with no predicted samples.\n",
      "  'precision', 'predicted', average, warn_for)\n"
     ]
    },
    {
     "name": "stdout",
     "output_type": "stream",
     "text": [
      "              precision    recall  f1-score   support\n",
      "\n",
      "           A       0.51      0.96      0.66       876\n",
      "           B       1.00      1.00      1.00         1\n",
      "           C       0.00      0.00      0.00        24\n",
      "           D       0.00      0.00      0.00        73\n",
      "           E       0.28      0.05      0.08       231\n",
      "           F       0.30      0.05      0.08       391\n",
      "           G       0.00      0.00      0.00        71\n",
      "           H       0.58      0.14      0.23        98\n",
      "           I       0.80      0.86      0.83       152\n",
      "           W       0.00      0.00      0.00         5\n",
      "           X       0.79      0.74      0.76       104\n",
      "           Y       0.70      0.45      0.55        62\n",
      "\n",
      "   micro avg       0.54      0.54      0.54      2088\n",
      "   macro avg       0.41      0.35      0.35      2088\n",
      "weighted avg       0.45      0.54      0.43      2088\n",
      "\n",
      "====forest====\n",
      "              precision    recall  f1-score   support\n",
      "\n",
      "           A       0.94      0.98      0.96       876\n",
      "           B       0.00      0.00      0.00         1\n",
      "           C       1.00      0.96      0.98        24\n",
      "           D       0.99      0.96      0.97        73\n",
      "           E       0.94      0.92      0.93       231\n",
      "           F       0.94      0.92      0.93       391\n",
      "           G       0.96      0.93      0.94        71\n",
      "           H       0.97      0.91      0.94        98\n",
      "           I       1.00      0.99      0.99       152\n",
      "           W       1.00      0.80      0.89         5\n",
      "           X       0.97      0.97      0.97       104\n",
      "           Y       1.00      0.92      0.96        62\n",
      "\n",
      "   micro avg       0.95      0.95      0.95      2088\n",
      "   macro avg       0.89      0.85      0.87      2088\n",
      "weighted avg       0.95      0.95      0.95      2088\n",
      "\n"
     ]
    },
    {
     "name": "stderr",
     "output_type": "stream",
     "text": [
      "/usr/local/lib/python3.7/site-packages/sklearn/metrics/classification.py:1143: UndefinedMetricWarning: Precision and F-score are ill-defined and being set to 0.0 in labels with no predicted samples.\n",
      "  'precision', 'predicted', average, warn_for)\n"
     ]
    }
   ],
   "source": [
    "from sklearn.metrics import classification_report\n",
    "\n",
    "for modelName, model in models.items():\n",
    "    y_pred = model.predict(X_test)\n",
    "    print(f\"===={modelName}====\")\n",
    "    print(classification_report(y_test, y_pred))"
   ]
  },
  {
   "cell_type": "code",
   "execution_count": 5,
   "metadata": {},
   "outputs": [
    {
     "name": "stdout",
     "output_type": "stream",
     "text": [
      "['/Users/boyander/IRONHACK/@DATA_EPHEMERAL/datamad-1019', '/Users/boyander/IRONHACK/@DATA_EPHEMERAL/datamad-1019', '/Users/boyander/IRONHACK/@DATA_EPHEMERAL/datamad-1019', '/Users/boyander/IRONHACK/@DATA_EPHEMERAL/datamad-1019/./', '', '/Users/boyander/IRONHACK/@DATA_EPHEMERAL/datamad-1019', '/usr/local/Cellar/python/3.7.5/Frameworks/Python.framework/Versions/3.7/lib/python37.zip', '/usr/local/Cellar/python/3.7.5/Frameworks/Python.framework/Versions/3.7/lib/python3.7', '/usr/local/Cellar/python/3.7.5/Frameworks/Python.framework/Versions/3.7/lib/python3.7/lib-dynload', '/Users/boyander/Library/Python/3.7/lib/python/site-packages', '/usr/local/lib/python3.7/site-packages', '/usr/local/lib/python3.7/site-packages/IPython/extensions', '/Users/boyander/.ipython']\n"
     ]
    },
    {
     "ename": "NameError",
     "evalue": "name 'y' is not defined",
     "output_type": "error",
     "traceback": [
      "\u001b[0;31m---------------------------------------------------------------------------\u001b[0m",
      "\u001b[0;31mNameError\u001b[0m                                 Traceback (most recent call last)",
      "\u001b[0;32m<ipython-input-5-8e011b85290c>\u001b[0m in \u001b[0;36m<module>\u001b[0;34m\u001b[0m\n\u001b[1;32m     12\u001b[0m \u001b[0msns\u001b[0m\u001b[0;34m.\u001b[0m\u001b[0mset\u001b[0m\u001b[0;34m(\u001b[0m\u001b[0;34m)\u001b[0m\u001b[0;34m\u001b[0m\u001b[0;34m\u001b[0m\u001b[0m\n\u001b[1;32m     13\u001b[0m \u001b[0;34m\u001b[0m\u001b[0m\n\u001b[0;32m---> 14\u001b[0;31m \u001b[0mlabels\u001b[0m \u001b[0;34m=\u001b[0m \u001b[0mlist\u001b[0m\u001b[0;34m(\u001b[0m\u001b[0mset\u001b[0m\u001b[0;34m(\u001b[0m\u001b[0my\u001b[0m\u001b[0;34m)\u001b[0m\u001b[0;34m)\u001b[0m\u001b[0;34m\u001b[0m\u001b[0;34m\u001b[0m\u001b[0m\n\u001b[0m\u001b[1;32m     15\u001b[0m \u001b[0;34m\u001b[0m\u001b[0m\n\u001b[1;32m     16\u001b[0m \u001b[0;32mfor\u001b[0m \u001b[0mmodelName\u001b[0m\u001b[0;34m,\u001b[0m \u001b[0mmodel\u001b[0m \u001b[0;32min\u001b[0m \u001b[0mmodels\u001b[0m\u001b[0;34m.\u001b[0m\u001b[0mitems\u001b[0m\u001b[0;34m(\u001b[0m\u001b[0;34m)\u001b[0m\u001b[0;34m:\u001b[0m\u001b[0;34m\u001b[0m\u001b[0;34m\u001b[0m\u001b[0m\n",
      "\u001b[0;31mNameError\u001b[0m: name 'y' is not defined"
     ]
    }
   ],
   "source": [
    "%matplotlib inline\n",
    "\n",
    "# Validate current dir as module paths\n",
    "import sys\n",
    "import os\n",
    "sys.path.insert(0, os.path.join(os.getcwd()))\n",
    "\n",
    "import matplotlib.pyplot as plt\n",
    "import seaborn as sns \n",
    "from others.cmPlot import cmPlot\n",
    "\n",
    "sns.set()\n",
    "\n",
    "labels = list(set(y))\n",
    "\n",
    "for modelName, model in models.items():\n",
    "    plt.figure(figsize=(15,10))\n",
    "    plt.subplot()\n",
    "    y_pred = model.predict(X_test)\n",
    "    \n",
    "    #plot confussion matrix\n",
    "    cmPlot(y_pred,y_test,labels)\n",
    "  "
   ]
  },
  {
   "cell_type": "code",
   "execution_count": null,
   "metadata": {},
   "outputs": [],
   "source": []
  },
  {
   "cell_type": "code",
   "execution_count": null,
   "metadata": {},
   "outputs": [],
   "source": []
  },
  {
   "cell_type": "code",
   "execution_count": null,
   "metadata": {},
   "outputs": [],
   "source": []
  }
 ],
 "metadata": {
  "kernelspec": {
   "display_name": "Python 3",
   "language": "python",
   "name": "python3"
  },
  "language_info": {
   "codemirror_mode": {
    "name": "ipython",
    "version": 3
   },
   "file_extension": ".py",
   "mimetype": "text/x-python",
   "name": "python",
   "nbconvert_exporter": "python",
   "pygments_lexer": "ipython3",
   "version": "3.7.5"
  }
 },
 "nbformat": 4,
 "nbformat_minor": 2
}
